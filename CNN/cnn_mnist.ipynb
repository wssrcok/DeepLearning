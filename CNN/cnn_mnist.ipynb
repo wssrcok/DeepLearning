{
 "cells": [
  {
   "cell_type": "code",
   "execution_count": 1,
   "metadata": {
    "colab": {
     "autoexec": {
      "startup": false,
      "wait_interval": 0
     }
    },
    "colab_type": "code",
    "id": "c8Pqt5O58m-T"
   },
   "outputs": [
    {
     "name": "stderr",
     "output_type": "stream",
     "text": [
      "/Users/samshen/anaconda/envs/py36/lib/python3.6/site-packages/h5py/__init__.py:36: FutureWarning: Conversion of the second argument of issubdtype from `float` to `np.floating` is deprecated. In future, it will be treated as `np.float64 == np.dtype(float).type`.\n",
      "  from ._conv import register_converters as _register_converters\n"
     ]
    }
   ],
   "source": [
    "# Imports\n",
    "import time\n",
    "import math\n",
    "import sys\n",
    "import numpy as np\n",
    "import h5py\n",
    "import tensorflow as tf\n",
    "import matplotlib.pyplot as plt\n",
    "import matplotlib.mlab as mlab\n",
    "import scipy\n",
    "from PIL import Image\n",
    "from scipy import ndimage\n",
    "from tf_utils import load_dataset, random_mini_batches, convert_to_one_hot, predict\n",
    "from fc_utils import *\n",
    "from cnn_utils import *\n",
    "%matplotlib inline\n",
    "plt.rcParams['figure.figsize'] = (5.0, 4.0) # set default size of plots\n",
    "plt.rcParams['image.interpolation'] = 'nearest'\n",
    "plt.rcParams['image.cmap'] = 'gray'\n",
    "\n",
    "%load_ext autoreload\n",
    "%autoreload 2\n",
    "\n",
    "np.random.seed(2)"
   ]
  },
  {
   "cell_type": "code",
   "execution_count": 2,
   "metadata": {},
   "outputs": [],
   "source": [
    "# train_data_orig, train_labels_orig, eval_data_orig, eval_labels_orig, classes = load_dataset()\n",
    "# classes = 6\n",
    "# train_labels = np.squeeze(train_labels_orig)\n",
    "# train_labels_old = train_labels\n",
    "# train_labels = one_hot_label(classes, train_labels_old)\n",
    "# eval_labels = np.squeeze(eval_labels_orig)\n",
    "# eval_labels_old = eval_labels\n",
    "# eval_labels = one_hot_label(classes, eval_labels_old)\n",
    "# # Flatten the training and test images\n",
    "# train_data = train_data_orig.reshape(train_data_orig.shape[0], -1).T\n",
    "# eval_data = eval_data_orig.reshape(eval_data_orig.shape[0], -1).T\n",
    "# # Normalize image vectors\n",
    "# train_data = train_data/255.\n",
    "# eval_data = eval_data/255.\n",
    "# features = train_data.shape[0]\n",
    "# print(train_data.shape)"
   ]
  },
  {
   "cell_type": "code",
   "execution_count": 3,
   "metadata": {
    "colab": {
     "autoexec": {
      "startup": false,
      "wait_interval": 0
     },
     "base_uri": "https://localhost:8080/",
     "height": 713
    },
    "colab_type": "code",
    "executionInfo": {
     "elapsed": 5471,
     "status": "ok",
     "timestamp": 1524423903496,
     "user": {
      "displayName": "Sam Shen",
      "photoUrl": "https://lh3.googleusercontent.com/a/default-user=s128",
      "userId": "100562431021972138930"
     },
     "user_tz": 420
    },
    "id": "iUnl80CzJRW3",
    "outputId": "a53edd3c-90b7-4072-be10-8deea3b77f95"
   },
   "outputs": [
    {
     "name": "stdout",
     "output_type": "stream",
     "text": [
      "WARNING:tensorflow:From /Users/samshen/anaconda/envs/py36/lib/python3.6/site-packages/tensorflow/contrib/learn/python/learn/datasets/base.py:198: retry (from tensorflow.contrib.learn.python.learn.datasets.base) is deprecated and will be removed in a future version.\n",
      "Instructions for updating:\n",
      "Use the retry module or similar alternatives.\n",
      "WARNING:tensorflow:From <ipython-input-3-f4f1b92339aa>:2: load_dataset (from tensorflow.contrib.learn.python.learn.datasets) is deprecated and will be removed in a future version.\n",
      "Instructions for updating:\n",
      "Please use tf.data.\n",
      "WARNING:tensorflow:From /Users/samshen/anaconda/envs/py36/lib/python3.6/site-packages/tensorflow/contrib/learn/python/learn/datasets/__init__.py:80: load_mnist (from tensorflow.contrib.learn.python.learn.datasets.mnist) is deprecated and will be removed in a future version.\n",
      "Instructions for updating:\n",
      "Please use alternatives such as official/mnist/dataset.py from tensorflow/models.\n",
      "WARNING:tensorflow:From /Users/samshen/anaconda/envs/py36/lib/python3.6/site-packages/tensorflow/contrib/learn/python/learn/datasets/mnist.py:300: read_data_sets (from tensorflow.contrib.learn.python.learn.datasets.mnist) is deprecated and will be removed in a future version.\n",
      "Instructions for updating:\n",
      "Please use alternatives such as official/mnist/dataset.py from tensorflow/models.\n",
      "WARNING:tensorflow:From /Users/samshen/anaconda/envs/py36/lib/python3.6/site-packages/tensorflow/contrib/learn/python/learn/datasets/mnist.py:260: maybe_download (from tensorflow.contrib.learn.python.learn.datasets.base) is deprecated and will be removed in a future version.\n",
      "Instructions for updating:\n",
      "Please write your own downloading logic.\n",
      "WARNING:tensorflow:From /Users/samshen/anaconda/envs/py36/lib/python3.6/site-packages/tensorflow/contrib/learn/python/learn/datasets/mnist.py:262: extract_images (from tensorflow.contrib.learn.python.learn.datasets.mnist) is deprecated and will be removed in a future version.\n",
      "Instructions for updating:\n",
      "Please use tf.data to implement this functionality.\n",
      "Extracting MNIST-data/train-images-idx3-ubyte.gz\n",
      "WARNING:tensorflow:From /Users/samshen/anaconda/envs/py36/lib/python3.6/site-packages/tensorflow/contrib/learn/python/learn/datasets/mnist.py:267: extract_labels (from tensorflow.contrib.learn.python.learn.datasets.mnist) is deprecated and will be removed in a future version.\n",
      "Instructions for updating:\n",
      "Please use tf.data to implement this functionality.\n",
      "Extracting MNIST-data/train-labels-idx1-ubyte.gz\n",
      "Extracting MNIST-data/t10k-images-idx3-ubyte.gz\n",
      "Extracting MNIST-data/t10k-labels-idx1-ubyte.gz\n",
      "WARNING:tensorflow:From /Users/samshen/anaconda/envs/py36/lib/python3.6/site-packages/tensorflow/contrib/learn/python/learn/datasets/mnist.py:290: DataSet.__init__ (from tensorflow.contrib.learn.python.learn.datasets.mnist) is deprecated and will be removed in a future version.\n",
      "Instructions for updating:\n",
      "Please use alternatives such as official/mnist/dataset.py from tensorflow/models.\n"
     ]
    }
   ],
   "source": [
    "# Load training and eval data\n",
    "mnist = tf.contrib.learn.datasets.load_dataset(\"mnist\")\n",
    "train_data = mnist.train.images # Returns np.array\n",
    "classes = 10\n",
    "train_labels = np.asarray(mnist.train.labels, dtype=np.int32)\n",
    "train_labels = one_hot_label(classes, train_labels)\n",
    "eval_data = mnist.test.images # Returns np.array\n",
    "eval_labels_old = np.asarray(mnist.test.labels, dtype=np.int32)\n",
    "eval_labels = one_hot_label(classes, eval_labels_old)\n",
    "features = train_data.shape[0]"
   ]
  },
  {
   "cell_type": "code",
   "execution_count": 4,
   "metadata": {},
   "outputs": [
    {
     "name": "stdout",
     "output_type": "stream",
     "text": [
      "(55000, 784)\n",
      "(10000, 784)\n"
     ]
    },
    {
     "data": {
      "text/plain": [
       "<matplotlib.image.AxesImage at 0x117a029b0>"
      ]
     },
     "execution_count": 4,
     "metadata": {},
     "output_type": "execute_result"
    },
    {
     "data": {
      "image/png": "[encoded data removed]",
      "text/plain": [
       "<Figure size 432x288 with 1 Axes>"
      ]
     },
     "metadata": {},
     "output_type": "display_data"
    }
   ],
   "source": [
    "print(train_data.shape)\n",
    "print(eval_data.shape)\n",
    "# Input Layer\n",
    "input_layer = train_data.reshape(55000,1,28,28)\n",
    "eval_data = eval_data.reshape(10000,1,28,28)\n",
    "plt.imshow(input_layer[0,0])"
   ]
  },
  {
   "cell_type": "markdown",
   "metadata": {},
   "source": [
    "## Plan\n",
    "**input layer:** mx28x28x1\n",
    "\n",
    "**conv layer1 + Relu:** mx28x28x32\n",
    "\n",
    "**pool layer1:** mx14x14x32\n",
    "\n",
    "**conv layer2 + Relu:** mx14x14x64\n",
    "\n",
    "**pool layer2:** mx7x7x64\n",
    "\n",
    "**flatten:** mx3136\n",
    "\n",
    "**fc layer1:** mx1024\n",
    "\n",
    "**output layer:** mx10\n",
    "\n",
    "**softmax:** mx10"
   ]
  },
  {
   "cell_type": "code",
   "execution_count": 13,
   "metadata": {
    "colab": {
     "autoexec": {
      "startup": false,
      "wait_interval": 0
     },
     "base_uri": "https://localhost:8080/",
     "height": 988
    },
    "colab_type": "code",
    "executionInfo": {
     "elapsed": 162839,
     "status": "ok",
     "timestamp": 1524424075781,
     "user": {
      "displayName": "Sam Shen",
      "photoUrl": "https://lh3.googleusercontent.com/a/default-user=s128",
      "userId": "100562431021972138930"
     },
     "user_tz": 420
    },
    "id": "AZlK7EE4crMa",
    "outputId": "c6a279bb-a9e3-4e9e-afa6-fed4d8bfd9ec"
   },
   "outputs": [
    {
     "name": "stdout",
     "output_type": "stream",
     "text": [
      "Cost after iteration 0, batch 0: 2.302585\n",
      "Cost after iteration 0, batch 1: 2.305845\n",
      "Cost after iteration 0, batch 2: 2.306586\n",
      "Cost after iteration 0, batch 3: 2.305472\n",
      "Cost after iteration 0, batch 4: 2.309357\n",
      "Cost after iteration 0, batch 5: 2.307383\n",
      "Cost after iteration 0, batch 6: 2.305618\n",
      "Cost after iteration 0, batch 7: 2.306398\n",
      "Cost after iteration 0, batch 8: 2.306523\n",
      "Cost after iteration 0, batch 9: 2.304611\n",
      "Cost after iteration 0, batch 10: 2.302441\n",
      "Cost after iteration 0, batch 11: 2.291630\n",
      "Cost after iteration 0, batch 12: 2.280437\n",
      "Cost after iteration 0, batch 13: 2.275477\n",
      "Cost after iteration 0, batch 14: 2.299243\n",
      "Cost after iteration 0, batch 15: 2.282806\n",
      "Cost after iteration 0: 2.282806\n"
     ]
    },
    {
     "data": {
      "image/png": "[encoded data removed]",
      "text/plain": [
       "<Figure size 360x288 with 1 Axes>"
      ]
     },
     "metadata": {},
     "output_type": "display_data"
    }
   ],
   "source": [
    "# training model\n",
    "filter_dims = [(32,1,5,5),(64,32,5,5)]\n",
    "layers_dims = [3136, 1024, classes] #  2-layer model\n",
    "parameters, parameters_conv, grads, conv_grads = cnn_model(input_layer[0:4096], train_labels[0:4096], filter_dims, layers_dims, truncate = 8, batch_size = 256, learning_rate = 0.05, num_iterations = 1, print_cost = True)\n"
   ]
  },
  {
   "cell_type": "code",
   "execution_count": null,
   "metadata": {
    "colab": {
     "autoexec": {
      "startup": false,
      "wait_interval": 0
     },
     "base_uri": "https://localhost:8080/",
     "height": 988
    },
    "colab_type": "code",
    "executionInfo": {
     "elapsed": 162655,
     "status": "ok",
     "timestamp": 1524424291554,
     "user": {
      "displayName": "Sam Shen",
      "photoUrl": "https://lh3.googleusercontent.com/a/default-user=s128",
      "userId": "100562431021972138930"
     },
     "user_tz": 420
    },
    "id": "XMFB3PxjKQ4t",
    "outputId": "e2ebca9c-8be3-409c-8db5-139e8ebca265"
   },
   "outputs": [
    {
     "name": "stdout",
     "output_type": "stream",
     "text": [
      "Cost after iteration 0, batch 0: 2.251637\n",
      "Cost after iteration 0, batch 1: 2.238825\n",
      "Cost after iteration 0, batch 2: 2.242859\n",
      "Cost after iteration 0, batch 3: 2.244643\n",
      "Cost after iteration 0, batch 4: 2.231163\n",
      "Cost after iteration 0, batch 5: 2.238000\n",
      "Cost after iteration 0, batch 6: 2.237069\n",
      "Cost after iteration 0, batch 7: 2.233003\n",
      "Cost after iteration 0, batch 8: 2.248541\n",
      "Cost after iteration 0, batch 9: 2.247158\n",
      "Cost after iteration 0, batch 10: 2.241527\n",
      "Cost after iteration 0, batch 11: 2.216017\n",
      "Cost after iteration 0, batch 12: 2.225810\n",
      "Cost after iteration 0, batch 13: 2.222992\n",
      "Cost after iteration 0, batch 14: 2.232743\n",
      "Cost after iteration 0, batch 15: 2.225334\n",
      "Cost after iteration 0: 2.225334\n",
      "Cost after iteration 1, batch 0: 2.219133\n",
      "Cost after iteration 1, batch 1: 2.212030\n",
      "Cost after iteration 1, batch 2: 2.218427\n",
      "Cost after iteration 1, batch 3: 2.223479\n",
      "Cost after iteration 1, batch 4: 2.209754\n",
      "Cost after iteration 1, batch 5: 2.219534\n",
      "Cost after iteration 1, batch 6: 2.221089\n",
      "Cost after iteration 1, batch 7: 2.217806\n",
      "Cost after iteration 1, batch 8: 2.234891\n",
      "Cost after iteration 1, batch 9: 2.234330\n",
      "Cost after iteration 1, batch 10: 2.228869\n",
      "Cost after iteration 1, batch 11: 2.199772\n",
      "Cost after iteration 1, batch 12: 2.212434\n",
      "Cost after iteration 1, batch 13: 2.207801\n",
      "Cost after iteration 1, batch 14: 2.218848\n",
      "Cost after iteration 1, batch 15: 2.208498\n",
      "Cost after iteration 1: 2.208498\n",
      "Cost after iteration 2, batch 0: 2.201131\n",
      "Cost after iteration 2, batch 1: 2.193046\n",
      "Cost after iteration 2, batch 2: 2.199285\n",
      "Cost after iteration 2, batch 3: 2.203671\n",
      "Cost after iteration 2, batch 4: 2.184801\n",
      "Cost after iteration 2, batch 5: 2.197474\n",
      "Cost after iteration 2, batch 6: 2.197228\n",
      "Cost after iteration 2, batch 7: 2.189954\n",
      "Cost after iteration 2, batch 8: 2.211805\n",
      "Cost after iteration 2, batch 9: 2.208063\n",
      "Cost after iteration 2, batch 10: 2.202730\n",
      "Cost after iteration 2, batch 11: 2.163345\n"
     ]
    }
   ],
   "source": [
    "#further training on the same model \n",
    "parameters, parameters_conv, grads, conv_grads = cnn_model(input_layer[0:4096], train_labels[:,0:4096], layers_dims, filter_dims, truncate = 8, batch_size = 256, learning_rate = 0.005, num_iterations = 5, parameters = parameters, parameters_conv = parameters_conv, print_cost = True)\n"
   ]
  },
  {
   "cell_type": "code",
   "execution_count": null,
   "metadata": {},
   "outputs": [],
   "source": [
    "train_labels.shape"
   ]
  },
  {
   "cell_type": "code",
   "execution_count": null,
   "metadata": {
    "colab": {
     "autoexec": {
      "startup": false,
      "wait_interval": 0
     },
     "base_uri": "https://localhost:8080/",
     "height": 277
    },
    "colab_type": "code",
    "executionInfo": {
     "elapsed": 7999,
     "status": "ok",
     "timestamp": 1524424305787,
     "user": {
      "displayName": "Sam Shen",
      "photoUrl": "https://lh3.googleusercontent.com/a/default-user=s128",
      "userId": "100562431021972138930"
     },
     "user_tz": 420
    },
    "id": "ebpt464ANpnK",
    "outputId": "bd7bfa51-50bf-4ec5-c689-cf40424bcb8b"
   },
   "outputs": [],
   "source": [
    "#eval_cnn_model(input_layer[0:4096], train_labels[:,0:4096], parameters, parameters_conv)\n",
    "\n",
    "eval_cnn_model(eval_data[0+5000:512+5000], eval_labels[:,5000:512+5000], parameters, parameters_conv)\n",
    "parameters"
   ]
  },
  {
   "cell_type": "code",
   "execution_count": null,
   "metadata": {},
   "outputs": [],
   "source": [
    "np.set_printoptions(threshold=sys.maxsize)"
   ]
  },
  {
   "cell_type": "code",
   "execution_count": null,
   "metadata": {
    "colab": {
     "autoexec": {
      "startup": false,
      "wait_interval": 0
     },
     "base_uri": "https://localhost:8080/",
     "height": 317
    },
    "colab_type": "code",
    "executionInfo": {
     "elapsed": 548,
     "status": "ok",
     "timestamp": 1524205134652,
     "user": {
      "displayName": "Sam Shen",
      "photoUrl": "https://lh3.googleusercontent.com/a/default-user=s128",
      "userId": "100562431021972138930"
     },
     "user_tz": 420
    },
    "id": "zGyOlEriv4lf",
    "outputId": "0af28b55-b550-4f3e-e2e2-f145ba7d74a3"
   },
   "outputs": [],
   "source": [
    "image_num = 85\n",
    "predict_cnn(eval_data[image_num:image_num+1],parameters, parameters_conv)\n",
    "print(\"actual value: \" + str(eval_labels_old[image_num]))\n",
    "data = mnist.test.images[image_num].reshape(28,28)\n",
    "plt.imshow(data)"
   ]
  },
  {
   "cell_type": "code",
   "execution_count": null,
   "metadata": {
    "colab": {
     "autoexec": {
      "startup": false,
      "wait_interval": 0
     }
    },
    "colab_type": "code",
    "id": "Ew1O8bo7v4lg"
   },
   "outputs": [],
   "source": [
    "out = np.concatenate((parameters_conv['W1'].reshape(-1),parameters_conv['b1'].reshape(-1), \n",
    "                     parameters_conv['W3'].reshape(-1), parameters_conv['b3'].reshape(-1)))\n",
    "#out = out.reshape(-1,1)\n",
    "mu = np.mean(out)\n",
    "variance = np.var(out)\n",
    "sigma = math.sqrt(variance)\n",
    "x = np.linspace(mu - 4 * sigma , mu + 4 * sigma , 1000)\n",
    "plt.plot(x,mlab.normpdf(x, mu, sigma))\n",
    "plt.show()\n",
    "print(\"one std is\",sigma)"
   ]
  },
  {
   "cell_type": "code",
   "execution_count": null,
   "metadata": {},
   "outputs": [],
   "source": [
    "out = np.concatenate((parameters_conv['W1'].reshape(-1),parameters_conv['W3'].reshape(-1),\n",
    "                      parameters_conv['b1'].reshape(-1),parameters_conv['b3'].reshape(-1),\n",
    "                      conv_grads['dW1'].reshape(-1), conv_grads['dW3'].reshape(-1),\n",
    "                      conv_grads['db1'].reshape(-1),conv_grads['db3'].reshape(-1)))\n",
    "out = out.reshape(-1,8)\n",
    "np.savetxt(\"parameters.csv\", out, delimiter=\",\")"
   ]
  },
  {
   "cell_type": "code",
   "execution_count": null,
   "metadata": {},
   "outputs": [],
   "source": []
  },
  {
   "cell_type": "code",
   "execution_count": null,
   "metadata": {},
   "outputs": [],
   "source": [
    "def round8(p):\n",
    "    for k,v in p.items():\n",
    "        p[k] = np.around(v, decimals=2)\n",
    "    return p"
   ]
  },
  {
   "cell_type": "code",
   "execution_count": null,
   "metadata": {},
   "outputs": [],
   "source": [
    "conv_grads = round8(conv_grads)\n",
    "grads = round8(grads)"
   ]
  },
  {
   "cell_type": "code",
   "execution_count": null,
   "metadata": {},
   "outputs": [],
   "source": [
    "conv_grads"
   ]
  },
  {
   "cell_type": "code",
   "execution_count": null,
   "metadata": {},
   "outputs": [],
   "source": []
  }
 ],
 "metadata": {
  "accelerator": "GPU",
  "colab": {
   "collapsed_sections": [],
   "default_view": {},
   "name": "cnn_mnist.ipynb",
   "provenance": [],
   "version": "0.3.2",
   "views": {}
  },
  "kernelspec": {
   "display_name": "Python 3",
   "language": "python",
   "name": "python3"
  },
  "language_info": {
   "codemirror_mode": {
    "name": "ipython",
    "version": 3
   },
   "file_extension": ".py",
   "mimetype": "text/x-python",
   "name": "python",
   "nbconvert_exporter": "python",
   "pygments_lexer": "ipython3",
   "version": "3.6.5"
  }
 },
 "nbformat": 4,
 "nbformat_minor": 1
}
