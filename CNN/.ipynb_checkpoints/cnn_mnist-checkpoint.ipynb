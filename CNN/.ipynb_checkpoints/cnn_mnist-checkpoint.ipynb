{
 "cells": [
  {
   "cell_type": "code",
   "execution_count": 1,
   "metadata": {
    "colab": {
     "autoexec": {
      "startup": false,
      "wait_interval": 0
     }
    },
    "colab_type": "code",
    "id": "c8Pqt5O58m-T"
   },
   "outputs": [
    {
     "name": "stderr",
     "output_type": "stream",
     "text": [
      "/Users/samshen/anaconda/envs/py36/lib/python3.6/site-packages/h5py/__init__.py:36: FutureWarning: Conversion of the second argument of issubdtype from `float` to `np.floating` is deprecated. In future, it will be treated as `np.float64 == np.dtype(float).type`.\n",
      "  from ._conv import register_converters as _register_converters\n"
     ]
    }
   ],
   "source": [
    "# Imports\n",
    "import time\n",
    "import math\n",
    "import sys\n",
    "import numpy as np\n",
    "import h5py\n",
    "import tensorflow as tf\n",
    "import matplotlib.pyplot as plt\n",
    "import matplotlib.mlab as mlab\n",
    "import scipy\n",
    "from PIL import Image\n",
    "from scipy import ndimage\n",
    "from tf_utils import load_dataset, random_mini_batches, convert_to_one_hot, predict\n",
    "from fc_utils import *\n",
    "from cnn_utils import *\n",
    "%matplotlib inline\n",
    "plt.rcParams['figure.figsize'] = (5.0, 4.0) # set default size of plots\n",
    "plt.rcParams['image.interpolation'] = 'nearest'\n",
    "plt.rcParams['image.cmap'] = 'gray'\n",
    "\n",
    "%load_ext autoreload\n",
    "%autoreload 2\n",
    "\n",
    "np.random.seed(1)"
   ]
  },
  {
   "cell_type": "code",
   "execution_count": 2,
   "metadata": {},
   "outputs": [],
   "source": [
    "# train_data_orig, train_labels_orig, eval_data_orig, eval_labels_orig, classes = load_dataset()\n",
    "# classes = 6\n",
    "# train_labels = np.squeeze(train_labels_orig)\n",
    "# train_labels_old = train_labels\n",
    "# train_labels = one_hot_label(classes, train_labels_old)\n",
    "# eval_labels = np.squeeze(eval_labels_orig)\n",
    "# eval_labels_old = eval_labels\n",
    "# eval_labels = one_hot_label(classes, eval_labels_old)\n",
    "# # Flatten the training and test images\n",
    "# train_data = train_data_orig.reshape(train_data_orig.shape[0], -1).T\n",
    "# eval_data = eval_data_orig.reshape(eval_data_orig.shape[0], -1).T\n",
    "# # Normalize image vectors\n",
    "# train_data = train_data/255.\n",
    "# eval_data = eval_data/255.\n",
    "# features = train_data.shape[0]\n",
    "# print(train_data.shape)"
   ]
  },
  {
   "cell_type": "code",
   "execution_count": 3,
   "metadata": {
    "colab": {
     "autoexec": {
      "startup": false,
      "wait_interval": 0
     },
     "base_uri": "https://localhost:8080/",
     "height": 713
    },
    "colab_type": "code",
    "executionInfo": {
     "elapsed": 5471,
     "status": "ok",
     "timestamp": 1524423903496,
     "user": {
      "displayName": "Sam Shen",
      "photoUrl": "https://lh3.googleusercontent.com/a/default-user=s128",
      "userId": "100562431021972138930"
     },
     "user_tz": 420
    },
    "id": "iUnl80CzJRW3",
    "outputId": "a53edd3c-90b7-4072-be10-8deea3b77f95"
   },
   "outputs": [
    {
     "name": "stdout",
     "output_type": "stream",
     "text": [
      "WARNING:tensorflow:From /Users/samshen/anaconda/envs/py36/lib/python3.6/site-packages/tensorflow/contrib/learn/python/learn/datasets/base.py:198: retry (from tensorflow.contrib.learn.python.learn.datasets.base) is deprecated and will be removed in a future version.\n",
      "Instructions for updating:\n",
      "Use the retry module or similar alternatives.\n",
      "WARNING:tensorflow:From <ipython-input-3-f4f1b92339aa>:2: load_dataset (from tensorflow.contrib.learn.python.learn.datasets) is deprecated and will be removed in a future version.\n",
      "Instructions for updating:\n",
      "Please use tf.data.\n",
      "WARNING:tensorflow:From /Users/samshen/anaconda/envs/py36/lib/python3.6/site-packages/tensorflow/contrib/learn/python/learn/datasets/__init__.py:80: load_mnist (from tensorflow.contrib.learn.python.learn.datasets.mnist) is deprecated and will be removed in a future version.\n",
      "Instructions for updating:\n",
      "Please use alternatives such as official/mnist/dataset.py from tensorflow/models.\n",
      "WARNING:tensorflow:From /Users/samshen/anaconda/envs/py36/lib/python3.6/site-packages/tensorflow/contrib/learn/python/learn/datasets/mnist.py:300: read_data_sets (from tensorflow.contrib.learn.python.learn.datasets.mnist) is deprecated and will be removed in a future version.\n",
      "Instructions for updating:\n",
      "Please use alternatives such as official/mnist/dataset.py from tensorflow/models.\n",
      "WARNING:tensorflow:From /Users/samshen/anaconda/envs/py36/lib/python3.6/site-packages/tensorflow/contrib/learn/python/learn/datasets/mnist.py:260: maybe_download (from tensorflow.contrib.learn.python.learn.datasets.base) is deprecated and will be removed in a future version.\n",
      "Instructions for updating:\n",
      "Please write your own downloading logic.\n",
      "WARNING:tensorflow:From /Users/samshen/anaconda/envs/py36/lib/python3.6/site-packages/tensorflow/contrib/learn/python/learn/datasets/mnist.py:262: extract_images (from tensorflow.contrib.learn.python.learn.datasets.mnist) is deprecated and will be removed in a future version.\n",
      "Instructions for updating:\n",
      "Please use tf.data to implement this functionality.\n",
      "Extracting MNIST-data/train-images-idx3-ubyte.gz\n",
      "WARNING:tensorflow:From /Users/samshen/anaconda/envs/py36/lib/python3.6/site-packages/tensorflow/contrib/learn/python/learn/datasets/mnist.py:267: extract_labels (from tensorflow.contrib.learn.python.learn.datasets.mnist) is deprecated and will be removed in a future version.\n",
      "Instructions for updating:\n",
      "Please use tf.data to implement this functionality.\n",
      "Extracting MNIST-data/train-labels-idx1-ubyte.gz\n",
      "Extracting MNIST-data/t10k-images-idx3-ubyte.gz\n",
      "Extracting MNIST-data/t10k-labels-idx1-ubyte.gz\n",
      "WARNING:tensorflow:From /Users/samshen/anaconda/envs/py36/lib/python3.6/site-packages/tensorflow/contrib/learn/python/learn/datasets/mnist.py:290: DataSet.__init__ (from tensorflow.contrib.learn.python.learn.datasets.mnist) is deprecated and will be removed in a future version.\n",
      "Instructions for updating:\n",
      "Please use alternatives such as official/mnist/dataset.py from tensorflow/models.\n"
     ]
    }
   ],
   "source": [
    "# Load training and eval data\n",
    "mnist = tf.contrib.learn.datasets.load_dataset(\"mnist\")\n",
    "train_data = mnist.train.images # Returns np.array\n",
    "classes = 10\n",
    "train_labels = np.asarray(mnist.train.labels, dtype=np.int32)\n",
    "train_labels = one_hot_label(classes, train_labels)\n",
    "eval_data = mnist.test.images # Returns np.array\n",
    "eval_labels_old = np.asarray(mnist.test.labels, dtype=np.int32)\n",
    "eval_labels = one_hot_label(classes, eval_labels_old)\n",
    "features = train_data.shape[0]"
   ]
  },
  {
   "cell_type": "code",
   "execution_count": 6,
   "metadata": {},
   "outputs": [
    {
     "name": "stdout",
     "output_type": "stream",
     "text": [
      "(55000, 784)\n",
      "(10000, 28, 28, 1)\n"
     ]
    },
    {
     "data": {
      "text/plain": [
       "<matplotlib.image.AxesImage at 0x18212956d8>"
      ]
     },
     "execution_count": 6,
     "metadata": {},
     "output_type": "execute_result"
    },
    {
     "data": {
      "image/png": "[encoded data removed]",
      "text/plain": [
       "<Figure size 432x288 with 1 Axes>"
      ]
     },
     "metadata": {},
     "output_type": "display_data"
    }
   ],
   "source": [
    "print(train_data.shape)\n",
    "print(eval_data.shape)\n",
    "# Input Layer\n",
    "input_layer = train_data.reshape(55000,1,28,28)\n",
    "eval_data = eval_data.reshape(10000,1,28,28)\n",
    "plt.imshow(input_layer[0,0])"
   ]
  },
  {
   "cell_type": "markdown",
   "metadata": {},
   "source": [
    "## Plan\n",
    "**input layer:** mx28x28x1\n",
    "\n",
    "**conv layer1 + Relu:** mx28x28x32\n",
    "\n",
    "**pool layer1:** mx14x14x32\n",
    "\n",
    "**conv layer2 + Relu:** mx14x14x64\n",
    "\n",
    "**pool layer2:** mx7x7x64\n",
    "\n",
    "**flatten:** mx3136\n",
    "\n",
    "**fc layer1:** mx1024\n",
    "\n",
    "**output layer:** mx10\n",
    "\n",
    "**softmax:** mx10"
   ]
  },
  {
   "cell_type": "code",
   "execution_count": 5,
   "metadata": {
    "colab": {
     "autoexec": {
      "startup": false,
      "wait_interval": 0
     },
     "base_uri": "https://localhost:8080/",
     "height": 988
    },
    "colab_type": "code",
    "executionInfo": {
     "elapsed": 162839,
     "status": "ok",
     "timestamp": 1524424075781,
     "user": {
      "displayName": "Sam Shen",
      "photoUrl": "https://lh3.googleusercontent.com/a/default-user=s128",
      "userId": "100562431021972138930"
     },
     "user_tz": 420
    },
    "id": "AZlK7EE4crMa",
    "outputId": "c6a279bb-a9e3-4e9e-afa6-fed4d8bfd9ec"
   },
   "outputs": [
    {
     "name": "stdout",
     "output_type": "stream",
     "text": [
      "Cost after iteration 0, batch 0: 2.302552\n",
      "Cost after iteration 0, batch 1: 2.302320\n",
      "Cost after iteration 0, batch 2: 2.302193\n",
      "Cost after iteration 0, batch 3: 2.302091\n",
      "Cost after iteration 0, batch 4: 2.301870\n",
      "Cost after iteration 0, batch 5: 2.301425\n",
      "Cost after iteration 0, batch 6: 2.300894\n",
      "Cost after iteration 0, batch 7: 2.300374\n",
      "Cost after iteration 0, batch 8: 2.299963\n",
      "Cost after iteration 0, batch 9: 2.298979\n",
      "Cost after iteration 0, batch 10: 2.297313\n",
      "Cost after iteration 0, batch 11: 2.294633\n",
      "Cost after iteration 0, batch 12: 2.292513\n",
      "Cost after iteration 0, batch 13: 2.290622\n",
      "Cost after iteration 0, batch 14: 2.288487\n",
      "Cost after iteration 0, batch 15: 2.279506\n",
      "Cost after iteration 0: 2.279506\n"
     ]
    },
    {
     "data": {
      "image/png": "[encoded data removed]",
      "text/plain": [
       "<Figure size 432x288 with 1 Axes>"
      ]
     },
     "metadata": {},
     "output_type": "display_data"
    }
   ],
   "source": [
    "# training model\n",
    "filter_dims = [(5,5,1,32),(5,5,32,64)]\n",
    "#filter_dims = [(32,1,5,5),(64,32,5,5)]\n",
    "layers_dims = [3136, 1024, classes] #  2-layer model\n",
    "parameters, parameters_conv, grads, conv_grads = cnn_model(input_layer[0:4096], train_labels[0:4096], filter_dims, layers_dims, batch_size = 256, learning_rate = 0.02, num_iterations = 1, print_cost = True)"
   ]
  },
  {
   "cell_type": "code",
   "execution_count": 99,
   "metadata": {
    "colab": {
     "autoexec": {
      "startup": false,
      "wait_interval": 0
     },
     "base_uri": "https://localhost:8080/",
     "height": 988
    },
    "colab_type": "code",
    "executionInfo": {
     "elapsed": 162655,
     "status": "ok",
     "timestamp": 1524424291554,
     "user": {
      "displayName": "Sam Shen",
      "photoUrl": "https://lh3.googleusercontent.com/a/default-user=s128",
      "userId": "100562431021972138930"
     },
     "user_tz": 420
    },
    "id": "XMFB3PxjKQ4t",
    "outputId": "e2ebca9c-8be3-409c-8db5-139e8ebca265"
   },
   "outputs": [
    {
     "name": "stdout",
     "output_type": "stream",
     "text": [
      "Cost after iteration 0, batch 0: 2.246672\n"
     ]
    },
    {
     "ename": "KeyboardInterrupt",
     "evalue": "",
     "output_type": "error",
     "traceback": [
      "\u001b[0;31m---------------------------------------------------------------------------\u001b[0m",
      "\u001b[0;31mKeyboardInterrupt\u001b[0m                         Traceback (most recent call last)",
      "\u001b[0;32m<ipython-input-99-f4a3ac8d7e74>\u001b[0m in \u001b[0;36m<module>\u001b[0;34m()\u001b[0m\n\u001b[1;32m      1\u001b[0m \u001b[0;31m#further training on the same model\u001b[0m\u001b[0;34m\u001b[0m\u001b[0;34m\u001b[0m\u001b[0m\n\u001b[0;32m----> 2\u001b[0;31m \u001b[0mparameters\u001b[0m\u001b[0;34m,\u001b[0m \u001b[0mparameters_conv\u001b[0m\u001b[0;34m,\u001b[0m \u001b[0mgrads\u001b[0m\u001b[0;34m,\u001b[0m \u001b[0mconv_grads\u001b[0m \u001b[0;34m=\u001b[0m \u001b[0mcnn_model\u001b[0m\u001b[0;34m(\u001b[0m\u001b[0minput_layer\u001b[0m\u001b[0;34m[\u001b[0m\u001b[0;36m0\u001b[0m\u001b[0;34m:\u001b[0m\u001b[0;36m4096\u001b[0m\u001b[0;34m]\u001b[0m\u001b[0;34m,\u001b[0m \u001b[0mtrain_labels\u001b[0m\u001b[0;34m[\u001b[0m\u001b[0;34m:\u001b[0m\u001b[0;34m,\u001b[0m\u001b[0;36m0\u001b[0m\u001b[0;34m:\u001b[0m\u001b[0;36m4096\u001b[0m\u001b[0;34m]\u001b[0m\u001b[0;34m,\u001b[0m \u001b[0mfilter_dims\u001b[0m\u001b[0;34m,\u001b[0m \u001b[0mlayers_dims\u001b[0m\u001b[0;34m,\u001b[0m \u001b[0mbatch_size\u001b[0m \u001b[0;34m=\u001b[0m \u001b[0;36m256\u001b[0m\u001b[0;34m,\u001b[0m \u001b[0mlearning_rate\u001b[0m \u001b[0;34m=\u001b[0m \u001b[0;36m0.002\u001b[0m\u001b[0;34m,\u001b[0m \u001b[0mnum_iterations\u001b[0m \u001b[0;34m=\u001b[0m \u001b[0;36m1\u001b[0m\u001b[0;34m,\u001b[0m \u001b[0mparameters\u001b[0m \u001b[0;34m=\u001b[0m \u001b[0mparameters\u001b[0m\u001b[0;34m,\u001b[0m \u001b[0mparameters_conv\u001b[0m \u001b[0;34m=\u001b[0m \u001b[0mparameters_conv\u001b[0m\u001b[0;34m,\u001b[0m \u001b[0mprint_cost\u001b[0m \u001b[0;34m=\u001b[0m \u001b[0;32mTrue\u001b[0m\u001b[0;34m)\u001b[0m\u001b[0;34m\u001b[0m\u001b[0m\n\u001b[0m",
      "\u001b[0;32m~/Desktop/DeepLearning/CNN/cnn_utils.py\u001b[0m in \u001b[0;36mcnn_model\u001b[0;34m(input_layer, Y, filter_dims, layers_dims, parameters, parameters_conv, batch_size, learning_rate, num_iterations, print_cost)\u001b[0m\n\u001b[1;32m    518\u001b[0m             \u001b[0;31m# unflatten\u001b[0m\u001b[0;34m\u001b[0m\u001b[0;34m\u001b[0m\u001b[0m\n\u001b[1;32m    519\u001b[0m             \u001b[0mdA4\u001b[0m \u001b[0;34m=\u001b[0m \u001b[0mgrads\u001b[0m\u001b[0;34m[\u001b[0m\u001b[0;34m'dA0'\u001b[0m\u001b[0;34m]\u001b[0m\u001b[0;34m.\u001b[0m\u001b[0mT\u001b[0m\u001b[0;34m\u001b[0m\u001b[0m\n\u001b[0;32m--> 520\u001b[0;31m             \u001b[0mconv_grads\u001b[0m \u001b[0;34m=\u001b[0m \u001b[0mtwo_conv_pool_layer_backward\u001b[0m\u001b[0;34m(\u001b[0m\u001b[0mdA4\u001b[0m\u001b[0;34m,\u001b[0m \u001b[0mconv_caches\u001b[0m\u001b[0;34m)\u001b[0m\u001b[0;34m\u001b[0m\u001b[0m\n\u001b[0m\u001b[1;32m    521\u001b[0m             \u001b[0;31m# Update parameters.\u001b[0m\u001b[0;34m\u001b[0m\u001b[0;34m\u001b[0m\u001b[0m\n\u001b[1;32m    522\u001b[0m             \u001b[0mparameters\u001b[0m \u001b[0;34m=\u001b[0m \u001b[0mupdate_parameters\u001b[0m\u001b[0;34m(\u001b[0m\u001b[0mparameters\u001b[0m\u001b[0;34m,\u001b[0m \u001b[0mgrads\u001b[0m\u001b[0;34m,\u001b[0m \u001b[0mlearning_rate\u001b[0m\u001b[0;34m)\u001b[0m\u001b[0;34m\u001b[0m\u001b[0m\n",
      "\u001b[0;32m~/Desktop/DeepLearning/CNN/cnn_utils.py\u001b[0m in \u001b[0;36mtwo_conv_pool_layer_backward\u001b[0;34m(dA4, caches)\u001b[0m\n\u001b[1;32m    453\u001b[0m     \u001b[0mconv_grads\u001b[0m \u001b[0;34m=\u001b[0m \u001b[0;34m{\u001b[0m\u001b[0;34m}\u001b[0m\u001b[0;34m\u001b[0m\u001b[0m\n\u001b[1;32m    454\u001b[0m     \u001b[0mdA3\u001b[0m \u001b[0;34m=\u001b[0m \u001b[0mpool_backward\u001b[0m\u001b[0;34m(\u001b[0m\u001b[0mdA4\u001b[0m\u001b[0;34m,\u001b[0m \u001b[0mpool_cache4\u001b[0m\u001b[0;34m)\u001b[0m\u001b[0;34m\u001b[0m\u001b[0m\n\u001b[0;32m--> 455\u001b[0;31m     \u001b[0mdZ3\u001b[0m \u001b[0;34m=\u001b[0m \u001b[0mrelu_backward\u001b[0m\u001b[0;34m(\u001b[0m\u001b[0mdA3\u001b[0m\u001b[0;34m,\u001b[0m \u001b[0mconv_cache3\u001b[0m\u001b[0;34m[\u001b[0m\u001b[0;34m-\u001b[0m\u001b[0;36m1\u001b[0m\u001b[0;34m]\u001b[0m\u001b[0;34m)\u001b[0m\u001b[0;34m\u001b[0m\u001b[0m\n\u001b[0m\u001b[1;32m    456\u001b[0m     \u001b[0mdA2\u001b[0m\u001b[0;34m,\u001b[0m \u001b[0mdW3\u001b[0m\u001b[0;34m,\u001b[0m \u001b[0mdb3\u001b[0m \u001b[0;34m=\u001b[0m \u001b[0mconv_backward\u001b[0m\u001b[0;34m(\u001b[0m\u001b[0mdZ3\u001b[0m\u001b[0;34m,\u001b[0m \u001b[0mconv_cache3\u001b[0m\u001b[0;34m[\u001b[0m\u001b[0;36m0\u001b[0m\u001b[0;34m:\u001b[0m\u001b[0;34m-\u001b[0m\u001b[0;36m1\u001b[0m\u001b[0;34m]\u001b[0m\u001b[0;34m)\u001b[0m\u001b[0;34m\u001b[0m\u001b[0m\n\u001b[1;32m    457\u001b[0m \u001b[0;34m\u001b[0m\u001b[0m\n",
      "\u001b[0;32m~/Desktop/DeepLearning/CNN/fc_utils.py\u001b[0m in \u001b[0;36mrelu_backward\u001b[0;34m(dA, cache)\u001b[0m\n\u001b[1;32m     71\u001b[0m \u001b[0;34m\u001b[0m\u001b[0m\n\u001b[1;32m     72\u001b[0m     \u001b[0;31m# When z <= 0, you should set dz to 0 as well.\u001b[0m\u001b[0;34m\u001b[0m\u001b[0;34m\u001b[0m\u001b[0m\n\u001b[0;32m---> 73\u001b[0;31m     \u001b[0mdZ\u001b[0m\u001b[0;34m[\u001b[0m\u001b[0mZ\u001b[0m \u001b[0;34m<=\u001b[0m \u001b[0;36m0\u001b[0m\u001b[0;34m]\u001b[0m \u001b[0;34m=\u001b[0m \u001b[0;36m0\u001b[0m\u001b[0;34m\u001b[0m\u001b[0m\n\u001b[0m\u001b[1;32m     74\u001b[0m \u001b[0;34m\u001b[0m\u001b[0m\n\u001b[1;32m     75\u001b[0m     \u001b[0;32massert\u001b[0m \u001b[0;34m(\u001b[0m\u001b[0mdZ\u001b[0m\u001b[0;34m.\u001b[0m\u001b[0mshape\u001b[0m \u001b[0;34m==\u001b[0m \u001b[0mZ\u001b[0m\u001b[0;34m.\u001b[0m\u001b[0mshape\u001b[0m\u001b[0;34m)\u001b[0m\u001b[0;34m\u001b[0m\u001b[0m\n",
      "\u001b[0;31mKeyboardInterrupt\u001b[0m: "
     ]
    }
   ],
   "source": [
    "#further training on the same model \n",
    "parameters, parameters_conv, grads, conv_grads = cnn_model(input_layer[0:4096], train_labels[:,0:4096], filter_dims, layers_dims, batch_size = 256, learning_rate = 0.002, num_iterations = 1, parameters = parameters, parameters_conv = parameters_conv, print_cost = True)\n",
    "\n"
   ]
  },
  {
   "cell_type": "code",
   "execution_count": 32,
   "metadata": {},
   "outputs": [
    {
     "data": {
      "text/plain": [
       "(10, 55000)"
      ]
     },
     "execution_count": 32,
     "metadata": {},
     "output_type": "execute_result"
    }
   ],
   "source": [
    "train_labels.shape"
   ]
  },
  {
   "cell_type": "code",
   "execution_count": 89,
   "metadata": {
    "colab": {
     "autoexec": {
      "startup": false,
      "wait_interval": 0
     },
     "base_uri": "https://localhost:8080/",
     "height": 277
    },
    "colab_type": "code",
    "executionInfo": {
     "elapsed": 7999,
     "status": "ok",
     "timestamp": 1524424305787,
     "user": {
      "displayName": "Sam Shen",
      "photoUrl": "https://lh3.googleusercontent.com/a/default-user=s128",
      "userId": "100562431021972138930"
     },
     "user_tz": 420
    },
    "id": "ebpt464ANpnK",
    "outputId": "bd7bfa51-50bf-4ec5-c689-cf40424bcb8b"
   },
   "outputs": [
    {
     "name": "stdout",
     "output_type": "stream",
     "text": [
      "Accuracy: 0.955078125\n"
     ]
    },
    {
     "data": {
      "text/plain": [
       "{'W1': array([[ 2.00000910e-02, -1.07224824e-10,  0.00000000e+00, ...,\n",
       "         -5.39657237e-08, -6.03859846e-08,  9.99999968e-03],\n",
       "        [ 2.00000000e-02,  0.00000000e+00,  0.00000000e+00, ...,\n",
       "          2.00000000e-02, -1.00000000e-02,  0.00000000e+00],\n",
       "        [-8.20010015e-07, -1.99999986e-02,  9.99999963e-03, ...,\n",
       "         -2.00000950e-02, -3.79355850e-07, -9.99977648e-03],\n",
       "        ...,\n",
       "        [-1.43837875e-07, -1.00000027e-02, -1.47155572e-09, ...,\n",
       "         -2.81100621e-07, -1.00001693e-02, -2.15166939e-08],\n",
       "        [-1.00001929e-02, -1.29327550e-09,  2.03386487e-09, ...,\n",
       "         -2.20504063e-07, -2.00000965e-02, -1.00003595e-02],\n",
       "        [-1.00000752e-02,  9.99999992e-03, -1.00000000e-02, ...,\n",
       "          1.00000094e-02, -1.00000570e-02, -9.99997099e-03]]),\n",
       " 'b1': array([[-2.09390810e-07],\n",
       "        [ 0.00000000e+00],\n",
       "        [-1.06249673e-06],\n",
       "        ...,\n",
       "        [-1.85838435e-07],\n",
       "        [-2.01117842e-08],\n",
       "        [-5.04677218e-08]]),\n",
       " 'W2': array([[-7.22197143e-06, -1.00000000e-02, -4.21474860e-05, ...,\n",
       "          1.99999026e-02,  9.90502207e-03,  1.00012521e-02],\n",
       "        [-9.99111580e-03,  0.00000000e+00, -9.98758596e-03, ...,\n",
       "          1.09568230e-05,  1.52160738e-04,  9.99998621e-03],\n",
       "        [ 1.19312972e-05,  2.00000000e-02, -1.62996581e-05, ...,\n",
       "         -8.34746487e-06,  1.02610302e-02,  4.29779541e-06],\n",
       "        ...,\n",
       "        [-1.00012476e-02, -1.00000000e-02, -1.01385230e-02, ...,\n",
       "          9.99913254e-03, -2.04426411e-04, -1.00058404e-02],\n",
       "        [-1.00024338e-02,  0.00000000e+00,  1.01785791e-02, ...,\n",
       "          1.99953212e-02, -2.52796434e-06,  6.68105484e-06],\n",
       "        [-6.25473403e-06, -1.00000000e-02,  4.49440281e-05, ...,\n",
       "         -2.00000744e-02,  9.35699004e-05,  9.98458885e-03]]),\n",
       " 'b2': array([[-5.84365472e-06],\n",
       "        [ 1.00669894e-02],\n",
       "        [-3.75573871e-06],\n",
       "        [-7.61717824e-06],\n",
       "        [ 2.27086241e-05],\n",
       "        [-1.93601668e-05],\n",
       "        [ 2.14289949e-06],\n",
       "        [-1.61107816e-05],\n",
       "        [-1.00317538e-02],\n",
       "        [-7.39966737e-06]])}"
      ]
     },
     "execution_count": 89,
     "metadata": {},
     "output_type": "execute_result"
    }
   ],
   "source": [
    "#eval_cnn_model(input_layer[0:4096], train_labels[:,0:4096], parameters, parameters_conv)\n",
    "\n",
    "eval_cnn_model(eval_data[0+5000:512+5000], eval_labels[:,5000:512+5000], parameters, parameters_conv)\n",
    "parameters"
   ]
  },
  {
   "cell_type": "code",
   "execution_count": 74,
   "metadata": {
    "colab": {
     "autoexec": {
      "startup": false,
      "wait_interval": 0
     },
     "base_uri": "https://localhost:8080/",
     "height": 317
    },
    "colab_type": "code",
    "executionInfo": {
     "elapsed": 548,
     "status": "ok",
     "timestamp": 1524205134652,
     "user": {
      "displayName": "Sam Shen",
      "photoUrl": "https://lh3.googleusercontent.com/a/default-user=s128",
      "userId": "100562431021972138930"
     },
     "user_tz": 420
    },
    "id": "zGyOlEriv4lf",
    "outputId": "0af28b55-b550-4f3e-e2e2-f145ba7d74a3"
   },
   "outputs": [
    {
     "name": "stdout",
     "output_type": "stream",
     "text": [
      "predictions: 4\n",
      "actual value: 4\n"
     ]
    },
    {
     "data": {
      "text/plain": [
       "<matplotlib.image.AxesImage at 0x18243ca748>"
      ]
     },
     "execution_count": 74,
     "metadata": {},
     "output_type": "execute_result"
    },
    {
     "data": {
      "image/png": "[encoded data removed]",
      "text/plain": [
       "<Figure size 360x288 with 1 Axes>"
      ]
     },
     "metadata": {},
     "output_type": "display_data"
    }
   ],
   "source": [
    "image_num = 85\n",
    "predict_cnn(eval_data[image_num:image_num+1],parameters, parameters_conv)\n",
    "print(\"actual value: \" + str(eval_labels_old[image_num]))\n",
    "data = mnist.test.images[image_num].reshape(28,28)\n",
    "plt.imshow(data)"
   ]
  },
  {
   "cell_type": "code",
   "execution_count": 78,
   "metadata": {
    "colab": {
     "autoexec": {
      "startup": false,
      "wait_interval": 0
     }
    },
    "colab_type": "code",
    "id": "Ew1O8bo7v4lg"
   },
   "outputs": [
    {
     "name": "stdout",
     "output_type": "stream",
     "text": [
      "[ 0.16  0.03  0.05 ...  0.05  0.21 -0.05]\n"
     ]
    },
    {
     "name": "stderr",
     "output_type": "stream",
     "text": [
      "/Users/samshen/anaconda/envs/py36/lib/python3.6/site-packages/ipykernel_launcher.py:11: MatplotlibDeprecationWarning: scipy.stats.norm.pdf\n",
      "  # This is added back by InteractiveShellApp.init_path()\n"
     ]
    },
    {
     "data": {
      "image/png": "[encoded data removed]",
      "text/plain": [
       "<Figure size 360x288 with 1 Axes>"
      ]
     },
     "metadata": {},
     "output_type": "display_data"
    },
    {
     "name": "stdout",
     "output_type": "stream",
     "text": [
      "one std is 0.05394559397882455\n"
     ]
    }
   ],
   "source": [
    "np.set_printoptions(threshold=10)\n",
    "out = np.concatenate((parameters_conv['W1'].reshape(-1),parameters_conv['b1'].reshape(-1), \n",
    "                     parameters_conv['W3'].reshape(-1), parameters_conv['b3'].reshape(-1),\n",
    "                     conv_grads[\"dW3\"].reshape(-1), conv_grads[\"db3\"].reshape(-1),\n",
    "                     conv_grads[\"dW1\"].reshape(-1), conv_grads[\"db1\"].reshape(-1)))\n",
    "#out = out.reshape(-1,1)\n",
    "mu = np.mean(out)\n",
    "variance = np.var(out)\n",
    "sigma = math.sqrt(variance)\n",
    "x = np.linspace(mu - 4 * sigma , mu + 4 * sigma , 1000)\n",
    "plt.plot(x,mlab.normpdf(x, mu, sigma))\n",
    "plt.show()\n",
    "print(\"one std is\",sigma)"
   ]
  },
  {
   "cell_type": "code",
   "execution_count": 97,
   "metadata": {},
   "outputs": [],
   "source": [
    "out = np.concatenate((parameters_conv['W1'].reshape(-1),parameters_conv['W3'].reshape(-1),\n",
    "                      parameters_conv['b1'].reshape(-1),parameters_conv['b3'].reshape(-1),\n",
    "                      conv_grads['dW1'].reshape(-1), conv_grads['dW3'].reshape(-1),\n",
    "                      conv_grads['db1'].reshape(-1),conv_grads['db3'].reshape(-1)))\n",
    "out = out.reshape(-1,8)\n",
    "np.savetxt(\"parameters.csv\", out, delimiter=\",\")"
   ]
  },
  {
   "cell_type": "code",
   "execution_count": 46,
   "metadata": {},
   "outputs": [
    {
     "data": {
      "text/plain": [
       "array([[ 0.04,  0.58, -1.1 ],\n",
       "       [ 1.14,  0.9 ,  0.5 ],\n",
       "       [ 0.9 , -0.68, -0.12]])"
      ]
     },
     "execution_count": 46,
     "metadata": {},
     "output_type": "execute_result"
    }
   ],
   "source": []
  },
  {
   "cell_type": "code",
   "execution_count": 82,
   "metadata": {},
   "outputs": [],
   "source": [
    "def round8(p):\n",
    "    for k,v in p.items():\n",
    "        p[k] = np.around(v, decimals=2)\n",
    "    return p"
   ]
  },
  {
   "cell_type": "code",
   "execution_count": 86,
   "metadata": {},
   "outputs": [],
   "source": [
    "conv_grads = round8(conv_grads)\n",
    "grads = round8(grads)"
   ]
  },
  {
   "cell_type": "code",
   "execution_count": 85,
   "metadata": {},
   "outputs": [
    {
     "data": {
      "text/plain": [
       "{'dW3': array([[[[ 0.08,  0.01, -0.15, ..., -0.01,  0.03, -0.01],\n",
       "          [ 0.  ,  0.  ,  0.01, ...,  0.01,  0.  , -0.01],\n",
       "          [ 0.11,  0.03, -0.29, ..., -0.04,  0.2 ,  0.01],\n",
       "          ...,\n",
       "          [ 0.18,  0.05, -0.52, ..., -0.08,  0.35, -0.03],\n",
       "          [-0.01,  0.  , -0.01, ..., -0.  ,  0.01,  0.  ],\n",
       "          [-0.  , -0.  , -0.01, ..., -0.01, -0.  ,  0.  ]],\n",
       " \n",
       "         [[ 0.03,  0.02, -0.16, ..., -0.01,  0.13, -0.  ],\n",
       "          [ 0.  , -0.  , -0.  , ...,  0.  ,  0.  , -0.01],\n",
       "          [ 0.12,  0.01, -0.29, ..., -0.03,  0.27,  0.01],\n",
       "          ...,\n",
       "          [ 0.2 ,  0.05, -0.45, ..., -0.04,  0.47, -0.05],\n",
       "          [ 0.  ,  0.  , -0.01, ..., -0.  , -0.  ,  0.  ],\n",
       "          [ 0.01, -0.  , -0.01, ..., -0.01, -0.  ,  0.  ]],\n",
       " \n",
       "         [[ 0.04,  0.01, -0.16, ..., -0.02,  0.13,  0.04],\n",
       "          [ 0.  ,  0.01, -0.  , ...,  0.  ,  0.01, -0.  ],\n",
       "          [ 0.12,  0.01, -0.07, ...,  0.06,  0.21, -0.06],\n",
       "          ...,\n",
       "          [ 0.17,  0.01, -0.1 , ...,  0.14,  0.35, -0.12],\n",
       "          [-0.  , -0.  , -0.01, ..., -0.  , -0.  ,  0.  ],\n",
       "          [-0.01, -0.  , -0.02, ..., -0.  ,  0.01,  0.  ]],\n",
       " \n",
       "         [[ 0.12, -0.  ,  0.  , ...,  0.02,  0.1 , -0.  ],\n",
       "          [ 0.02,  0.  ,  0.01, ...,  0.  ,  0.01,  0.  ],\n",
       "          [ 0.01, -0.03,  0.18, ...,  0.16,  0.03, -0.09],\n",
       "          ...,\n",
       "          [ 0.08, -0.04,  0.29, ...,  0.3 ,  0.04, -0.15],\n",
       "          [-0.  , -0.  , -0.  , ...,  0.  , -0.01,  0.  ],\n",
       "          [ 0.01,  0.  , -0.01, ..., -0.01,  0.01,  0.01]],\n",
       " \n",
       "         [[-0.06, -0.02,  0.1 , ...,  0.09, -0.03, -0.08],\n",
       "          [-0.  ,  0.  ,  0.01, ..., -0.  ,  0.  , -0.01],\n",
       "          [ 0.  , -0.02,  0.27, ...,  0.26, -0.14, -0.04],\n",
       "          ...,\n",
       "          [ 0.05, -0.04,  0.46, ...,  0.45, -0.26, -0.07],\n",
       "          [-0.01, -0.  ,  0.  , ...,  0.01, -0.  ,  0.  ],\n",
       "          [-0.01,  0.  , -0.  , ..., -0.  ,  0.01, -0.01]]],\n",
       " \n",
       " \n",
       "        [[[ 0.1 , -0.01, -0.16, ..., -0.04,  0.08, -0.02],\n",
       "          [ 0.01, -0.  ,  0.01, ...,  0.  ,  0.  , -0.  ],\n",
       "          [ 0.11,  0.02, -0.33, ..., -0.05,  0.27, -0.06],\n",
       "          ...,\n",
       "          [ 0.2 ,  0.03, -0.56, ..., -0.06,  0.44, -0.17],\n",
       "          [-0.01, -0.  , -0.01, ..., -0.  ,  0.  ,  0.  ],\n",
       "          [ 0.  , -0.  , -0.01, ..., -0.01,  0.  ,  0.  ]],\n",
       " \n",
       "         [[ 0.06,  0.01, -0.16, ..., -0.02,  0.17, -0.02],\n",
       "          [ 0.  , -0.  , -0.  , ...,  0.  ,  0.01,  0.  ],\n",
       "          [ 0.11,  0.01, -0.23, ...,  0.04,  0.3 , -0.15],\n",
       "          ...,\n",
       "          [ 0.19, -0.  , -0.37, ...,  0.09,  0.48, -0.27],\n",
       "          [-0.  , -0.  , -0.01, ..., -0.01,  0.  ,  0.  ],\n",
       "          [ 0.01, -0.  , -0.01, ..., -0.01,  0.01,  0.01]],\n",
       " \n",
       "         [[ 0.08,  0.01, -0.13, ...,  0.  ,  0.18, -0.08],\n",
       "          [ 0.01,  0.  , -0.  , ..., -0.  ,  0.01,  0.  ],\n",
       "          [ 0.13, -0.01,  0.02, ...,  0.15,  0.2 , -0.2 ],\n",
       "          ...,\n",
       "          [ 0.21, -0.  ,  0.03, ...,  0.28,  0.33, -0.34],\n",
       "          [-0.  , -0.  , -0.  , ..., -0.  , -0.  ,  0.01],\n",
       "          [-0.  , -0.  , -0.02, ..., -0.  ,  0.01,  0.  ]],\n",
       " \n",
       "         [[ 0.08, -0.01,  0.07, ...,  0.06,  0.1 , -0.07],\n",
       "          [ 0.01,  0.  ,  0.01, ..., -0.  ,  0.01,  0.  ],\n",
       "          [ 0.02,  0.  ,  0.3 , ...,  0.25,  0.01, -0.16],\n",
       "          ...,\n",
       "          [ 0.08,  0.01,  0.46, ...,  0.43,  0.05, -0.26],\n",
       "          [-0.  , -0.  , -0.  , ...,  0.  , -0.01,  0.  ],\n",
       "          [ 0.01, -0.  , -0.02, ..., -0.02,  0.02,  0.  ]],\n",
       " \n",
       "         [[-0.05,  0.01,  0.19, ...,  0.17, -0.01, -0.09],\n",
       "          [-0.01,  0.  ,  0.  , ...,  0.  ,  0.  , -0.01],\n",
       "          [ 0.07, -0.01,  0.28, ...,  0.28, -0.16, -0.04],\n",
       "          ...,\n",
       "          [ 0.1 , -0.03,  0.49, ...,  0.5 , -0.23, -0.09],\n",
       "          [-0.  ,  0.  ,  0.  , ...,  0.  , -0.01,  0.  ],\n",
       "          [-0.01,  0.  ,  0.01, ...,  0.  ,  0.01, -0.01]]],\n",
       " \n",
       " \n",
       "        [[[ 0.05, -0.01, -0.19, ..., -0.04,  0.12, -0.03],\n",
       "          [ 0.  , -0.  ,  0.  , ...,  0.  ,  0.  ,  0.  ],\n",
       "          [ 0.06,  0.02, -0.33, ...,  0.03,  0.27, -0.19],\n",
       "          ...,\n",
       "          [ 0.08,  0.01, -0.58, ...,  0.08,  0.44, -0.34],\n",
       "          [ 0.01,  0.  ,  0.  , ..., -0.  ,  0.01, -0.  ],\n",
       "          [ 0.01, -0.  , -0.01, ..., -0.01,  0.01,  0.01]],\n",
       " \n",
       "         [[ 0.06,  0.  , -0.14, ...,  0.02,  0.14, -0.08],\n",
       "          [-0.  , -0.  , -0.01, ...,  0.  ,  0.01,  0.  ],\n",
       "          [ 0.11, -0.04, -0.13, ...,  0.2 ,  0.23, -0.29],\n",
       "          ...,\n",
       "          [ 0.16, -0.07, -0.25, ...,  0.33,  0.37, -0.44],\n",
       "          [ 0.  , -0.  , -0.  , ..., -0.  ,  0.  , -0.  ],\n",
       "          [ 0.  , -0.  , -0.01, ..., -0.01,  0.  ,  0.01]],\n",
       " \n",
       "         [[ 0.11, -0.03, -0.08, ...,  0.08,  0.12, -0.16],\n",
       "          [ 0.01, -0.  , -0.01, ..., -0.  ,  0.  , -0.  ],\n",
       "          [ 0.1 , -0.04,  0.09, ...,  0.25,  0.1 , -0.24],\n",
       "          ...,\n",
       "          [ 0.15, -0.07,  0.1 , ...,  0.41,  0.19, -0.4 ],\n",
       "          [ 0.  ,  0.  ,  0.  , ..., -0.  , -0.  , -0.  ],\n",
       "          [ 0.  , -0.  , -0.02, ..., -0.01,  0.01, -0.  ]],\n",
       " \n",
       "         [[ 0.04, -0.03,  0.12, ...,  0.1 ,  0.04, -0.13],\n",
       "          [ 0.  , -0.  ,  0.  , ..., -0.  ,  0.  ,  0.  ],\n",
       "          [ 0.02, -0.  ,  0.27, ...,  0.27,  0.01, -0.14],\n",
       "          ...,\n",
       "          [ 0.05, -0.03,  0.45, ...,  0.43,  0.03, -0.25],\n",
       "          [ 0.  , -0.  ,  0.  , ...,  0.  , -0.01, -0.  ],\n",
       "          [ 0.  , -0.  , -0.01, ..., -0.01,  0.  , -0.01]],\n",
       " \n",
       "         [[-0.03,  0.02,  0.18, ...,  0.15, -0.  , -0.08],\n",
       "          [-0.01,  0.  ,  0.01, ...,  0.  , -0.  , -0.  ],\n",
       "          [ 0.06, -0.04,  0.26, ...,  0.28, -0.06, -0.06],\n",
       "          ...,\n",
       "          [ 0.1 , -0.09,  0.45, ...,  0.46, -0.08, -0.14],\n",
       "          [ 0.  , -0.  ,  0.01, ...,  0.01, -0.01,  0.  ],\n",
       "          [-0.01,  0.  ,  0.01, ...,  0.01, -0.  , -0.01]]],\n",
       " \n",
       " \n",
       "        [[[-0.04, -0.01, -0.28, ..., -0.02,  0.13, -0.08],\n",
       "          [ 0.  , -0.  , -0.  , ...,  0.  ,  0.  ,  0.  ],\n",
       "          [-0.05, -0.03, -0.35, ...,  0.11,  0.2 , -0.21],\n",
       "          ...,\n",
       "          [-0.12, -0.06, -0.61, ...,  0.2 ,  0.32, -0.34],\n",
       "          [ 0.01, -0.  ,  0.01, ...,  0.  ,  0.  , -0.  ],\n",
       "          [ 0.01, -0.  , -0.01, ..., -0.01,  0.01,  0.  ]],\n",
       " \n",
       "         [[-0.01, -0.02, -0.16, ...,  0.08,  0.1 , -0.13],\n",
       "          [ 0.  , -0.  , -0.01, ...,  0.  ,  0.01, -0.  ],\n",
       "          [ 0.05, -0.08, -0.15, ...,  0.26,  0.12, -0.23],\n",
       "          ...,\n",
       "          [ 0.05, -0.13, -0.28, ...,  0.4 ,  0.21, -0.37],\n",
       "          [ 0.01, -0.  ,  0.  , ..., -0.  , -0.  ,  0.  ],\n",
       "          [ 0.  , -0.  , -0.01, ..., -0.01,  0.  , -0.  ]],\n",
       " \n",
       "         [[ 0.08, -0.06, -0.1 , ...,  0.13,  0.06, -0.13],\n",
       "          [ 0.  , -0.01, -0.02, ...,  0.  ,  0.  , -0.01],\n",
       "          [ 0.02, -0.09, -0.  , ...,  0.19,  0.03, -0.15],\n",
       "          ...,\n",
       "          [ 0.03, -0.17, -0.02, ...,  0.34,  0.06, -0.27],\n",
       "          [ 0.01,  0.  ,  0.  , ..., -0.  , -0.  , -0.  ],\n",
       "          [ 0.  ,  0.  , -0.02, ..., -0.01,  0.  , -0.01]],\n",
       " \n",
       "         [[ 0.01, -0.05,  0.06, ...,  0.07, -0.  , -0.07],\n",
       "          [ 0.  , -0.01, -0.01, ..., -0.  ,  0.  , -0.  ],\n",
       "          [-0.03, -0.04,  0.17, ...,  0.16,  0.  , -0.11],\n",
       "          ...,\n",
       "          [-0.04, -0.1 ,  0.27, ...,  0.29,  0.  , -0.22],\n",
       "          [ 0.  ,  0.  ,  0.  , ...,  0.  ,  0.  , -0.  ],\n",
       "          [-0.  , -0.  , -0.01, ..., -0.01,  0.  , -0.01]],\n",
       " \n",
       "         [[-0.03,  0.  ,  0.13, ...,  0.07, -0.01, -0.06],\n",
       "          [-0.01, -0.  ,  0.  , ..., -0.  ,  0.  , -0.  ],\n",
       "          [ 0.01, -0.11,  0.22, ...,  0.22, -0.03, -0.16],\n",
       "          ...,\n",
       "          [ 0.02, -0.17,  0.38, ...,  0.36, -0.03, -0.29],\n",
       "          [ 0.  ,  0.  ,  0.  , ...,  0.01, -0.  , -0.  ],\n",
       "          [-0.02,  0.  ,  0.  , ..., -0.  ,  0.  , -0.  ]]],\n",
       " \n",
       " \n",
       "        [[[-0.11, -0.02, -0.27, ..., -0.03,  0.1 , -0.08],\n",
       "          [ 0.  , -0.  , -0.  , ..., -0.  ,  0.01, -0.  ],\n",
       "          [-0.14, -0.07, -0.3 , ...,  0.12,  0.12, -0.18],\n",
       "          ...,\n",
       "          [-0.25, -0.14, -0.54, ...,  0.17,  0.21, -0.29],\n",
       "          [-0.  , -0.  ,  0.01, ...,  0.01, -0.  , -0.  ],\n",
       "          [-0.  , -0.  , -0.02, ..., -0.  ,  0.01, -0.01]],\n",
       " \n",
       "         [[-0.05, -0.04, -0.11, ...,  0.12,  0.06, -0.1 ],\n",
       "          [-0.  , -0.  , -0.01, ..., -0.  ,  0.01,  0.  ],\n",
       "          [-0.05, -0.14, -0.16, ...,  0.24,  0.11, -0.15],\n",
       "          ...,\n",
       "          [-0.12, -0.24, -0.31, ...,  0.33,  0.19, -0.24],\n",
       "          [ 0.  , -0.  ,  0.01, ...,  0.01, -0.  ,  0.  ],\n",
       "          [ 0.  , -0.  , -0.01, ..., -0.  , -0.  , -0.  ]],\n",
       " \n",
       "         [[ 0.01, -0.08, -0.13, ...,  0.14,  0.05, -0.1 ],\n",
       "          [ 0.  , -0.01, -0.01, ...,  0.  ,  0.  , -0.  ],\n",
       "          [-0.08, -0.13, -0.06, ...,  0.11,  0.03, -0.1 ],\n",
       "          ...,\n",
       "          [-0.13, -0.23, -0.11, ...,  0.21,  0.06, -0.21],\n",
       "          [ 0.  , -0.  ,  0.  , ...,  0.  , -0.01,  0.  ],\n",
       "          [ 0.  , -0.  , -0.02, ...,  0.  ,  0.  , -0.01]],\n",
       " \n",
       "         [[-0.06, -0.06, -0.02, ...,  0.02, -0.01, -0.04],\n",
       "          [-0.  , -0.  , -0.01, ..., -0.01,  0.  , -0.  ],\n",
       "          [-0.09, -0.13,  0.09, ...,  0.08, -0.03, -0.14],\n",
       "          ...,\n",
       "          [-0.13, -0.22,  0.14, ...,  0.14, -0.07, -0.24],\n",
       "          [ 0.01, -0.  ,  0.  , ...,  0.  , -0.  ,  0.  ],\n",
       "          [-0.  , -0.  , -0.02, ..., -0.  ,  0.  , -0.  ]],\n",
       " \n",
       "         [[-0.07, -0.04,  0.11, ...,  0.07, -0.01, -0.09],\n",
       "          [-0.01, -0.  ,  0.01, ..., -0.  , -0.  , -0.  ],\n",
       "          [ 0.04, -0.12,  0.23, ...,  0.18, -0.04, -0.22],\n",
       "          ...,\n",
       "          [ 0.03, -0.18,  0.39, ...,  0.3 , -0.06, -0.37],\n",
       "          [ 0.  ,  0.  ,  0.  , ...,  0.01, -0.  , -0.  ],\n",
       "          [-0.02,  0.  , -0.  , ..., -0.  ,  0.  , -0.  ]]]]),\n",
       " 'db3': array([[[[-0.07, -0.16, -0.45, ...,  0.1 , -0.16, -0.29]]]]),\n",
       " 'dW1': array([[[[-0.42, -0.25, -0.59, ..., -0.41, -0.07, -0.12]],\n",
       " \n",
       "         [[-0.31, -0.26, -0.64, ..., -0.64, -0.02, -0.13]],\n",
       " \n",
       "         [[-0.26, -0.12, -0.81, ..., -0.85, -0.06, -0.1 ]],\n",
       " \n",
       "         [[-0.14,  0.01, -0.81, ..., -1.  , -0.09, -0.1 ]],\n",
       " \n",
       "         [[-0.07,  0.02, -0.72, ..., -1.09, -0.01, -0.13]]],\n",
       " \n",
       " \n",
       "        [[[-0.42, -0.34, -0.47, ..., -0.47, -0.06, -0.09]],\n",
       " \n",
       "         [[-0.43, -0.31, -0.69, ..., -0.81, -0.03, -0.14]],\n",
       " \n",
       "         [[-0.34, -0.13, -0.84, ..., -0.99, -0.  , -0.02]],\n",
       " \n",
       "         [[-0.34, -0.01, -0.65, ..., -1.14, -0.02, -0.06]],\n",
       " \n",
       "         [[-0.26, -0.01, -0.65, ..., -1.34,  0.01, -0.14]]],\n",
       " \n",
       " \n",
       "        [[[-0.34, -0.34, -0.62, ..., -0.67, -0.05, -0.04]],\n",
       " \n",
       "         [[-0.34, -0.22, -0.78, ..., -0.93, -0.02, -0.04]],\n",
       " \n",
       "         [[-0.34, -0.1 , -0.81, ..., -1.08, -0.02,  0.  ]],\n",
       " \n",
       "         [[-0.38, -0.05, -0.83, ..., -1.09,  0.01,  0.03]],\n",
       " \n",
       "         [[-0.46, -0.02, -0.83, ..., -1.29,  0.06, -0.01]]],\n",
       " \n",
       " \n",
       "        [[[-0.37, -0.33, -0.86, ..., -0.89, -0.04,  0.08]],\n",
       " \n",
       "         [[-0.35, -0.15, -0.87, ..., -0.96, -0.03, -0.01]],\n",
       " \n",
       "         [[-0.32, -0.06, -0.97, ..., -1.01, -0.01,  0.04]],\n",
       " \n",
       "         [[-0.41, -0.09, -0.83, ..., -0.98,  0.04,  0.07]],\n",
       " \n",
       "         [[-0.65, -0.12, -0.66, ..., -1.14,  0.08,  0.13]]],\n",
       " \n",
       " \n",
       "        [[[-0.35, -0.18, -1.02, ..., -0.99, -0.01,  0.1 ]],\n",
       " \n",
       "         [[-0.26, -0.07, -1.03, ..., -1.1 , -0.  ,  0.01]],\n",
       " \n",
       "         [[-0.19, -0.12, -0.97, ..., -0.72, -0.  ,  0.02]],\n",
       " \n",
       "         [[-0.48, -0.17, -0.83, ..., -0.63,  0.02,  0.06]],\n",
       " \n",
       "         [[-0.65, -0.17, -0.62, ..., -0.9 ,  0.03,  0.11]]]]),\n",
       " 'db1': array([[[[-1.36, -0.32, -2.39, ..., -2.39, -0.03, -0.24]]]])}"
      ]
     },
     "execution_count": 85,
     "metadata": {},
     "output_type": "execute_result"
    }
   ],
   "source": [
    "conv_grads"
   ]
  },
  {
   "cell_type": "code",
   "execution_count": null,
   "metadata": {},
   "outputs": [],
   "source": []
  }
 ],
 "metadata": {
  "accelerator": "GPU",
  "colab": {
   "collapsed_sections": [],
   "default_view": {},
   "name": "cnn_mnist.ipynb",
   "provenance": [],
   "version": "0.3.2",
   "views": {}
  },
  "kernelspec": {
   "display_name": "Python 3",
   "language": "python",
   "name": "python3"
  },
  "language_info": {
   "codemirror_mode": {
    "name": "ipython",
    "version": 3
   },
   "file_extension": ".py",
   "mimetype": "text/x-python",
   "name": "python",
   "nbconvert_exporter": "python",
   "pygments_lexer": "ipython3",
   "version": "3.6.5"
  }
 },
 "nbformat": 4,
 "nbformat_minor": 1
}
