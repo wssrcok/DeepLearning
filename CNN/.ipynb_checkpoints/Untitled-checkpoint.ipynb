{
 "cells": [
  {
   "cell_type": "code",
   "execution_count": 1,
   "metadata": {},
   "outputs": [
    {
     "name": "stderr",
     "output_type": "stream",
     "text": [
      "/Users/samshen/anaconda/envs/py36/lib/python3.6/site-packages/h5py/__init__.py:36: FutureWarning: Conversion of the second argument of issubdtype from `float` to `np.floating` is deprecated. In future, it will be treated as `np.float64 == np.dtype(float).type`.\n",
      "  from ._conv import register_converters as _register_converters\n"
     ]
    }
   ],
   "source": [
    "# Imports\n",
    "import time\n",
    "import math\n",
    "import sys\n",
    "import numpy as np\n",
    "import h5py\n",
    "import tensorflow as tf\n",
    "import matplotlib.pyplot as plt\n",
    "import matplotlib.mlab as mlab\n",
    "import scipy\n",
    "from PIL import Image\n",
    "from scipy import ndimage\n",
    "from tf_utils import load_dataset, random_mini_batches, convert_to_one_hot, predict\n",
    "from fc_utils import *\n",
    "from cnn_utils import *\n",
    "%matplotlib inline\n",
    "plt.rcParams['figure.figsize'] = (5.0, 4.0) # set default size of plots\n",
    "plt.rcParams['image.interpolation'] = 'nearest'\n",
    "plt.rcParams['image.cmap'] = 'gray'\n",
    "\n",
    "%load_ext autoreload\n",
    "%autoreload 2\n",
    "\n",
    "np.random.seed(1)"
   ]
  },
  {
   "cell_type": "code",
   "execution_count": 57,
   "metadata": {},
   "outputs": [],
   "source": [
    "def conv_forward1(A_prev, W, b, hparameters):\n",
    "    \"\"\"\n",
    "    Implements the forward propagation for a convolution function\n",
    "    \n",
    "    Arguments:\n",
    "    A_prev -- output activations of the previous layer, numpy array of shape (m, n_H_prev, n_W_prev, n_C_prev)\n",
    "    W -- Weights, numpy array of shape (f, f, n_C_prev, n_C)\n",
    "    b -- Biases, numpy array of shape (1, 1, 1, n_C)\n",
    "    hparameters -- python dictionary containing \"stride\" and \"pad\"\n",
    "        \n",
    "    Returns:\n",
    "    Z -- conv output, numpy array of shape (m, n_H, n_W, n_C)\n",
    "    cache -- cache of values needed for the conv_backward() function\n",
    "    \"\"\"\n",
    "    \n",
    "    ### START CODE HERE ###\n",
    "    # Retrieve dimensions from A_prev's shape (≈1 line)  \n",
    "    (m, n_H_prev, n_W_prev, n_C_prev) = A_prev.shape\n",
    "    \n",
    "    # Retrieve dimensions from W's shape (≈1 line)\n",
    "    (f, f, n_C_prev, n_C) = W.shape\n",
    "    \n",
    "    # Retrieve information from \"hparameters\" (≈2 lines)\n",
    "    stride = hparameters['stride']\n",
    "    pad = hparameters['pad']\n",
    "    \n",
    "    # Compute the dimensions of the CONV output volume using the formula given above. Hint: use int() to floor. (≈2 lines)\n",
    "    n_H = int((n_H_prev - f + 2 * pad) / stride) + 1\n",
    "    n_W = int((n_W_prev - f + 2 * pad) / stride) + 1\n",
    "    \n",
    "    # Initialize the output volume Z with zeros. (≈1 line)\n",
    "    Z = np.zeros((m, n_H, n_W, n_C));\n",
    "    \n",
    "    # Create A_prev_pad by padding A_prev\n",
    "    A_prev_pad = zero_pad(A_prev, pad)\n",
    "    \n",
    "    for i in range(0,m):                               # loop over the batch of training examples\n",
    "        a_prev_pad = A_prev_pad[i]                   # Select ith training example's padded activation\n",
    "        for h in range(0,n_H):                           # loop over vertical axis of the output volume\n",
    "            for w in range(0,n_W):                       # loop over horizontal axis of the output volume\n",
    "                for c in range(0,n_C):                   # loop over channels (= #filters) of the output volume\n",
    "                    \n",
    "                    # Find the corners of the current \"slice\" (≈4 lines)\n",
    "                    vert_start = h * stride\n",
    "                    vert_end = h * stride + f\n",
    "                    horiz_start = w * stride\n",
    "                    horiz_end = w * stride + f\n",
    "                    \n",
    "                    # Use the corners to define the (3D) slice of a_prev_pad (See Hint above the cell). (≈1 line)\n",
    "                    a_slice_prev = a_prev_pad[vert_start:vert_end, horiz_start:horiz_end, :]\n",
    "                    \n",
    "                    # Convolve the (3D) slice with the correct filter W and bias b, to get back one output neuron. (≈1 line)\n",
    "                    Z[i, h, w, c] = conv_single_step(a_slice_prev, W[:,:,:,c], b[:,:,:,c])\n",
    "                            \n",
    "    # activation\n",
    "    A, old_Z = relu(Z)       \n",
    "    ### END CODE HERE ###\n",
    "    \n",
    "    # Making sure your output shape is correct\n",
    "    assert(A.shape == (m, n_H, n_W, n_C))\n",
    "    \n",
    "    # Save information in \"cache\" for the backprop\n",
    "    cache = (A_prev, W, b, hparameters, 0, old_Z)\n",
    "    \n",
    "    return A, cache\n",
    "def conv_forward2(A_prev, W, b, hparameters):\n",
    "    # W's shape used to be (f, f, n_C_prev, n_C)\n",
    "    W = W.transpose(3,2,0,1)\n",
    "    n_C, n_C_prev, f, f = W.shape\n",
    "    # A_prev's shape used to be: (m, n_H_prev, n_W_prev, n_C_prev)\n",
    "    A_prev = A_prev.transpose(0,3,1,2)\n",
    "    m, n_C_prev, n_H_prev, n_W_prev = A_prev.shape\n",
    "\n",
    "    stride = hparameters['stride']\n",
    "    pad = hparameters['pad']\n",
    "\n",
    "    n_H_shape = (n_H_prev - f + 2 * pad) / stride + 1\n",
    "    n_W_shape = (n_W_prev - f + 2 * pad) / stride + 1\n",
    "\n",
    "    if not n_H_shape.is_integer() or not n_W_shape.is_integer():\n",
    "        raise Exception('Invalid output dimension!')\n",
    "    n_H_shape, n_W_shape = int(n_H_shape), int(n_W_shape)\n",
    "    #assert(A_prev.shape == (m,1,28,28) or A_prev.shape == (m,32,14,14))\n",
    "    #assert(pad == 2 and stride == 1)\n",
    "    #print(\"A_prev's shape is:\", A_prev.shape)\n",
    "    A_prev_col = im2col_indices(A_prev, f, f, padding=pad, stride=stride)\n",
    "    W_col = W.reshape(n_C, -1)\n",
    "    print(W)\n",
    "    print(W_col)\n",
    "    b = b.reshape(n_C,1)\n",
    "    print('A_prev_col is:')\n",
    "    print(A_prev_col)\n",
    "    print('W_col is:')\n",
    "    print(W_col)\n",
    "    \n",
    "    Z = W_col @ A_prev_col + b\n",
    "    Z = Z.reshape(n_C, n_H_shape, n_W_shape, m)\n",
    "    Z = Z.transpose(3, 0, 1, 2)\n",
    "    # now Z.shape is (m, n_C, n_H_shape, n_W_shape)\n",
    "\n",
    "    A, old_Z = relu(Z)\n",
    "\n",
    "    # turn every shape back to what I learned from coursera.\n",
    "    W = W.transpose(2,3,1,0)\n",
    "    A_prev = A_prev.transpose(0,2,3,1)\n",
    "    b = b.reshape(1,1,1,n_C)\n",
    "    A = A.transpose(0,2,3,1)\n",
    "    old_Z = old_Z.transpose(0,2,3,1)\n",
    "\n",
    "    cache = (A_prev, W, b, hparameters, A_prev_col, old_Z)\n",
    "\n",
    "    return A, cache"
   ]
  },
  {
   "cell_type": "code",
   "execution_count": 52,
   "metadata": {},
   "outputs": [],
   "source": [
    "a = np.array([\n",
    "    [0.0, 1.42, 2.4, 3.65, 4.234, 5.43, 6.45], \n",
    "    [4.34, 5.23, 6.435, 7.345, 8.45, 9.23, 10.54],\n",
    "    [8.34, 9.64, 10.23, 11.53, 12.56, 13.23, 14.64],\n",
    "    [15.23, 16.646, 17.23, 18.23, 19.5, 20.6, 21.2],\n",
    "    [22.64, 23.6, 24.23, 25.23, 26.53, 27.46, 28.46],\n",
    "    [29.34, 30.34, 31.34, 32.43, 33.64, 34.6, 35.23],\n",
    "    [23.86, 34.27, 26.75, 23.745, 25.54, 24.75, 54.46]])\n",
    "w = np.array([\n",
    "    [-1, 0, 1],\n",
    "    [-1, 0, 1],\n",
    "    [-1, 0, 1]])"
   ]
  },
  {
   "cell_type": "code",
   "execution_count": 53,
   "metadata": {},
   "outputs": [
    {
     "data": {
      "text/plain": [
       "<matplotlib.image.AxesImage at 0x119421a90>"
      ]
     },
     "execution_count": 53,
     "metadata": {},
     "output_type": "execute_result"
    },
    {
     "data": {
      "image/png": "[encoded data removed]",
      "text/plain": [
       "<Figure size 360x288 with 1 Axes>"
      ]
     },
     "metadata": {},
     "output_type": "display_data"
    }
   ],
   "source": [
    "plt.imshow(a)"
   ]
  },
  {
   "cell_type": "code",
   "execution_count": 54,
   "metadata": {},
   "outputs": [],
   "source": [
    "a = a.reshape(1,5,5,1)\n",
    "w = w.reshape(3,3,1,1)"
   ]
  },
  {
   "cell_type": "code",
   "execution_count": 55,
   "metadata": {},
   "outputs": [],
   "source": [
    "b = np.zeros((1,1,1,1))"
   ]
  },
  {
   "cell_type": "code",
   "execution_count": 58,
   "metadata": {},
   "outputs": [
    {
     "name": "stdout",
     "output_type": "stream",
     "text": [
      "in im2Col_indices, x_padded is:\n",
      "[[[[0 0 0 0 0 0 0]\n",
      "   [0 1 1 1 1 1 0]\n",
      "   [0 2 2 2 2 2 0]\n",
      "   [0 3 3 3 3 3 0]\n",
      "   [0 4 4 4 4 4 0]\n",
      "   [0 5 5 5 5 5 0]\n",
      "   [0 0 0 0 0 0 0]]]]\n",
      "[[[[0 1 0]\n",
      "   [0 0 0]\n",
      "   [0 1 0]]]]\n",
      "[[0 1 0 0 0 0 0 1 0]]\n",
      "A_prev_col is:\n",
      "[[0 0 0 0 0 0 1 1 1 1 0 2 2 2 2 0 3 3 3 3 0 4 4 4 4]\n",
      " [0 0 0 0 0 1 1 1 1 1 2 2 2 2 2 3 3 3 3 3 4 4 4 4 4]\n",
      " [0 0 0 0 0 1 1 1 1 0 2 2 2 2 0 3 3 3 3 0 4 4 4 4 0]\n",
      " [0 1 1 1 1 0 2 2 2 2 0 3 3 3 3 0 4 4 4 4 0 5 5 5 5]\n",
      " [1 1 1 1 1 2 2 2 2 2 3 3 3 3 3 4 4 4 4 4 5 5 5 5 5]\n",
      " [1 1 1 1 0 2 2 2 2 0 3 3 3 3 0 4 4 4 4 0 5 5 5 5 0]\n",
      " [0 2 2 2 2 0 3 3 3 3 0 4 4 4 4 0 5 5 5 5 0 0 0 0 0]\n",
      " [2 2 2 2 2 3 3 3 3 3 4 4 4 4 4 5 5 5 5 5 0 0 0 0 0]\n",
      " [2 2 2 2 0 3 3 3 3 0 4 4 4 4 0 5 5 5 5 0 0 0 0 0 0]]\n",
      "W_col is:\n",
      "[[0 1 0 0 0 0 0 1 0]]\n"
     ]
    }
   ],
   "source": [
    "  hparameters = {'stride': 1, 'pad': 1}\n",
    "a1,cache1 = conv_forward1(a, w, b, hparameters)\n",
    "a2,cache2 = conv_forward2(a, w, b, hparameters)"
   ]
  },
  {
   "cell_type": "code",
   "execution_count": 59,
   "metadata": {},
   "outputs": [
    {
     "name": "stdout",
     "output_type": "stream",
     "text": [
      "[[2. 2. 2. 2. 2.]\n",
      " [4. 4. 4. 4. 4.]\n",
      " [6. 6. 6. 6. 6.]\n",
      " [8. 8. 8. 8. 8.]\n",
      " [4. 4. 4. 4. 4.]]\n",
      "\n",
      "[[2. 2. 2. 2. 2.]\n",
      " [4. 4. 4. 4. 4.]\n",
      " [6. 6. 6. 6. 6.]\n",
      " [8. 8. 8. 8. 8.]\n",
      " [4. 4. 4. 4. 4.]]\n"
     ]
    }
   ],
   "source": [
    "a1 = a1.reshape(5,5)\n",
    "a2 = a2.reshape(5,5)\n",
    "z1 = cache1[-1].reshape(5,5)\n",
    "z2 = cache2[-1].reshape(5,5)\n",
    "print(z1)\n",
    "print()\n",
    "print(z2)"
   ]
  },
  {
   "cell_type": "code",
   "execution_count": null,
   "metadata": {},
   "outputs": [],
   "source": [
    "plt.imshow(aa)"
   ]
  },
  {
   "cell_type": "code",
   "execution_count": null,
   "metadata": {},
   "outputs": [],
   "source": []
  }
 ],
 "metadata": {
  "kernelspec": {
   "display_name": "Python 3",
   "language": "python",
   "name": "python3"
  },
  "language_info": {
   "codemirror_mode": {
    "name": "ipython",
    "version": 3
   },
   "file_extension": ".py",
   "mimetype": "text/x-python",
   "name": "python",
   "nbconvert_exporter": "python",
   "pygments_lexer": "ipython3",
   "version": "3.6.5"
  }
 },
 "nbformat": 4,
 "nbformat_minor": 2
}
