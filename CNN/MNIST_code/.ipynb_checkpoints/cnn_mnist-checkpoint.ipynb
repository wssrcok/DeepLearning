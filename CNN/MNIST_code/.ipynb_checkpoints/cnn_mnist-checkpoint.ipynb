{
 "cells": [
  {
   "cell_type": "code",
   "execution_count": 6,
   "metadata": {
    "colab": {
     "autoexec": {
      "startup": false,
      "wait_interval": 0
     }
    },
    "colab_type": "code",
    "id": "c8Pqt5O58m-T"
   },
   "outputs": [],
   "source": [
    "# Imports\n",
    "import time\n",
    "import math\n",
    "import sys\n",
    "import numpy as np\n",
    "import h5py\n",
    "import tensorflow as tf\n",
    "import matplotlib.pyplot as plt\n",
    "import matplotlib.mlab as mlab\n",
    "import scipy\n",
    "from PIL import Image\n",
    "from scipy import ndimage\n",
    "from utils import *\n",
    "from model import cnn_model\n",
    "\n",
    "%matplotlib inline\n",
    "plt.rcParams['figure.figsize'] = (5.0, 4.0) # set default size of plots\n",
    "plt.rcParams['image.interpolation'] = 'nearest'\n",
    "plt.rcParams['image.cmap'] = 'gray'\n",
    "\n",
    "%load_ext autoreload\n",
    "%autoreload 2\n",
    "\n",
    "np.random.seed(2)"
   ]
  },
  {
   "cell_type": "code",
   "execution_count": null,
   "metadata": {},
   "outputs": [],
   "source": [
    "# train_data_orig, train_labels_orig, eval_data_orig, eval_labels_orig, classes = load_dataset()\n",
    "# classes = 6\n",
    "# train_labels = np.squeeze(train_labels_orig)\n",
    "# train_labels_old = train_labels\n",
    "# train_labels = one_hot_label(classes, train_labels_old)\n",
    "# eval_labels = np.squeeze(eval_labels_orig)\n",
    "# eval_labels_old = eval_labels\n",
    "# eval_labels = one_hot_label(classes, eval_labels_old)\n",
    "# # Flatten the training and test images\n",
    "# train_data = train_data_orig.reshape(train_data_orig.shape[0], -1).T\n",
    "# eval_data = eval_data_orig.reshape(eval_data_orig.shape[0], -1).T\n",
    "# # Normalize image vectors\n",
    "# train_data = train_data/255.\n",
    "# eval_data = eval_data/255.\n",
    "# features = train_data.shape[0]\n",
    "# print(train_data.shape)"
   ]
  },
  {
   "cell_type": "code",
   "execution_count": 2,
   "metadata": {
    "colab": {
     "autoexec": {
      "startup": false,
      "wait_interval": 0
     },
     "base_uri": "https://localhost:8080/",
     "height": 713
    },
    "colab_type": "code",
    "executionInfo": {
     "elapsed": 5471,
     "status": "ok",
     "timestamp": 1524423903496,
     "user": {
      "displayName": "Sam Shen",
      "photoUrl": "https://lh3.googleusercontent.com/a/default-user=s128",
      "userId": "100562431021972138930"
     },
     "user_tz": 420
    },
    "id": "iUnl80CzJRW3",
    "outputId": "a53edd3c-90b7-4072-be10-8deea3b77f95"
   },
   "outputs": [
    {
     "name": "stdout",
     "output_type": "stream",
     "text": [
      "WARNING:tensorflow:From /Users/samshen/anaconda/envs/py36/lib/python3.6/site-packages/tensorflow/contrib/learn/python/learn/datasets/base.py:198: retry (from tensorflow.contrib.learn.python.learn.datasets.base) is deprecated and will be removed in a future version.\n",
      "Instructions for updating:\n",
      "Use the retry module or similar alternatives.\n",
      "WARNING:tensorflow:From <ipython-input-2-f4f1b92339aa>:2: load_dataset (from tensorflow.contrib.learn.python.learn.datasets) is deprecated and will be removed in a future version.\n",
      "Instructions for updating:\n",
      "Please use tf.data.\n",
      "WARNING:tensorflow:From /Users/samshen/anaconda/envs/py36/lib/python3.6/site-packages/tensorflow/contrib/learn/python/learn/datasets/__init__.py:80: load_mnist (from tensorflow.contrib.learn.python.learn.datasets.mnist) is deprecated and will be removed in a future version.\n",
      "Instructions for updating:\n",
      "Please use alternatives such as official/mnist/dataset.py from tensorflow/models.\n",
      "WARNING:tensorflow:From /Users/samshen/anaconda/envs/py36/lib/python3.6/site-packages/tensorflow/contrib/learn/python/learn/datasets/mnist.py:300: read_data_sets (from tensorflow.contrib.learn.python.learn.datasets.mnist) is deprecated and will be removed in a future version.\n",
      "Instructions for updating:\n",
      "Please use alternatives such as official/mnist/dataset.py from tensorflow/models.\n",
      "WARNING:tensorflow:From /Users/samshen/anaconda/envs/py36/lib/python3.6/site-packages/tensorflow/contrib/learn/python/learn/datasets/mnist.py:260: maybe_download (from tensorflow.contrib.learn.python.learn.datasets.base) is deprecated and will be removed in a future version.\n",
      "Instructions for updating:\n",
      "Please write your own downloading logic.\n",
      "WARNING:tensorflow:From /Users/samshen/anaconda/envs/py36/lib/python3.6/site-packages/tensorflow/contrib/learn/python/learn/datasets/mnist.py:262: extract_images (from tensorflow.contrib.learn.python.learn.datasets.mnist) is deprecated and will be removed in a future version.\n",
      "Instructions for updating:\n",
      "Please use tf.data to implement this functionality.\n",
      "Extracting MNIST-data/train-images-idx3-ubyte.gz\n",
      "WARNING:tensorflow:From /Users/samshen/anaconda/envs/py36/lib/python3.6/site-packages/tensorflow/contrib/learn/python/learn/datasets/mnist.py:267: extract_labels (from tensorflow.contrib.learn.python.learn.datasets.mnist) is deprecated and will be removed in a future version.\n",
      "Instructions for updating:\n",
      "Please use tf.data to implement this functionality.\n",
      "Extracting MNIST-data/train-labels-idx1-ubyte.gz\n",
      "Extracting MNIST-data/t10k-images-idx3-ubyte.gz\n",
      "Extracting MNIST-data/t10k-labels-idx1-ubyte.gz\n",
      "WARNING:tensorflow:From /Users/samshen/anaconda/envs/py36/lib/python3.6/site-packages/tensorflow/contrib/learn/python/learn/datasets/mnist.py:290: DataSet.__init__ (from tensorflow.contrib.learn.python.learn.datasets.mnist) is deprecated and will be removed in a future version.\n",
      "Instructions for updating:\n",
      "Please use alternatives such as official/mnist/dataset.py from tensorflow/models.\n"
     ]
    }
   ],
   "source": [
    "# Load training and eval data\n",
    "mnist = tf.contrib.learn.datasets.load_dataset(\"mnist\")\n",
    "train_data = mnist.train.images # Returns np.array\n",
    "classes = 10\n",
    "train_labels = np.asarray(mnist.train.labels, dtype=np.int32)\n",
    "train_labels = one_hot_label(classes, train_labels)\n",
    "eval_data = mnist.test.images # Returns np.array\n",
    "eval_labels_old = np.asarray(mnist.test.labels, dtype=np.int32)\n",
    "eval_labels = one_hot_label(classes, eval_labels_old)\n",
    "features = train_data.shape[0]"
   ]
  },
  {
   "cell_type": "code",
   "execution_count": 3,
   "metadata": {},
   "outputs": [
    {
     "name": "stdout",
     "output_type": "stream",
     "text": [
      "(55000, 784)\n",
      "(10000, 784)\n"
     ]
    }
   ],
   "source": [
    "# Input Layer\n",
    "input_layer = train_data.reshape(55000,1,28,28)\n",
    "eval_data = eval_data.reshape(10000,1,28,28)\n",
    "#plt.imshow(input_layer[0,0])"
   ]
  },
  {
   "cell_type": "markdown",
   "metadata": {},
   "source": [
    "## Plan\n",
    "**input layer:** mx28x28x1\n",
    "\n",
    "**conv layer1 + Relu:** mx28x28x32\n",
    "\n",
    "**pool layer1:** mx14x14x32\n",
    "\n",
    "**conv layer2 + Relu:** mx14x14x64\n",
    "\n",
    "**pool layer2:** mx7x7x64\n",
    "\n",
    "**flatten:** mx3136\n",
    "\n",
    "**fc layer1:** mx1024\n",
    "\n",
    "**output layer:** mx10\n",
    "\n",
    "**softmax:** mx10"
   ]
  },
  {
   "cell_type": "code",
   "execution_count": 184,
   "metadata": {
    "colab": {
     "autoexec": {
      "startup": false,
      "wait_interval": 0
     },
     "base_uri": "https://localhost:8080/",
     "height": 988
    },
    "colab_type": "code",
    "executionInfo": {
     "elapsed": 162839,
     "status": "ok",
     "timestamp": 1524424075781,
     "user": {
      "displayName": "Sam Shen",
      "photoUrl": "https://lh3.googleusercontent.com/a/default-user=s128",
      "userId": "100562431021972138930"
     },
     "user_tz": 420
    },
    "id": "AZlK7EE4crMa",
    "outputId": "c6a279bb-a9e3-4e9e-afa6-fed4d8bfd9ec"
   },
   "outputs": [
    {
     "name": "stdout",
     "output_type": "stream",
     "text": [
      "Cost after iteration 0, batch 0: 2.371167\n"
     ]
    },
    {
     "ename": "KeyboardInterrupt",
     "evalue": "",
     "output_type": "error",
     "traceback": [
      "\u001b[0;31m---------------------------------------------------------------------------\u001b[0m",
      "\u001b[0;31mKeyboardInterrupt\u001b[0m                         Traceback (most recent call last)",
      "\u001b[0;32m<ipython-input-184-02a946b6861b>\u001b[0m in \u001b[0;36m<module>\u001b[0;34m()\u001b[0m\n\u001b[1;32m      3\u001b[0m \u001b[0mlayers_dims\u001b[0m \u001b[0;34m=\u001b[0m \u001b[0;34m[\u001b[0m\u001b[0;36m3136\u001b[0m\u001b[0;34m,\u001b[0m \u001b[0;36m1024\u001b[0m\u001b[0;34m,\u001b[0m \u001b[0mclasses\u001b[0m\u001b[0;34m]\u001b[0m \u001b[0;31m#  2-layer model\u001b[0m\u001b[0;34m\u001b[0m\u001b[0m\n\u001b[1;32m      4\u001b[0m parameters, parameters_conv, grads, conv_grads = cnn_model(input_layer[0:256], train_labels[0:256], filter_dims, layers_dims, \n\u001b[0;32m----> 5\u001b[0;31m                                                            truncate = 0, batch_size = 64, learning_rate = 0.01, num_iterations = 1, print_cost = True)\n\u001b[0m",
      "\u001b[0;32m~/Desktop/DeepLearning/CNN/MNIST_code/model.py\u001b[0m in \u001b[0;36mcnn_model\u001b[0;34m(input_layer, Y, filter_dims, layers_dims, truncate, parameters, parameters_conv, batch_size, learning_rate, num_iterations, print_cost)\u001b[0m\n\u001b[1;32m     44\u001b[0m             \u001b[0;31m# unflatten\u001b[0m\u001b[0;34m\u001b[0m\u001b[0;34m\u001b[0m\u001b[0m\n\u001b[1;32m     45\u001b[0m             \u001b[0mdA4\u001b[0m \u001b[0;34m=\u001b[0m \u001b[0mgrads\u001b[0m\u001b[0;34m[\u001b[0m\u001b[0;34m'dA0'\u001b[0m\u001b[0;34m]\u001b[0m\u001b[0;34m.\u001b[0m\u001b[0mT\u001b[0m\u001b[0;34m\u001b[0m\u001b[0m\n\u001b[0;32m---> 46\u001b[0;31m             \u001b[0mconv_grads\u001b[0m \u001b[0;34m=\u001b[0m \u001b[0mtwo_conv_pool_layer_backward\u001b[0m\u001b[0;34m(\u001b[0m\u001b[0mdA4\u001b[0m\u001b[0;34m,\u001b[0m \u001b[0mconv_caches\u001b[0m\u001b[0;34m)\u001b[0m\u001b[0;34m\u001b[0m\u001b[0m\n\u001b[0m\u001b[1;32m     47\u001b[0m             \u001b[0;31m# Update parameters.\u001b[0m\u001b[0;34m\u001b[0m\u001b[0;34m\u001b[0m\u001b[0m\n\u001b[1;32m     48\u001b[0m             \u001b[0mparameters\u001b[0m \u001b[0;34m=\u001b[0m \u001b[0mupdate_parameters\u001b[0m\u001b[0;34m(\u001b[0m\u001b[0mparameters\u001b[0m\u001b[0;34m,\u001b[0m \u001b[0mgrads\u001b[0m\u001b[0;34m,\u001b[0m \u001b[0mlearning_rate\u001b[0m\u001b[0;34m,\u001b[0m \u001b[0mtruncate\u001b[0m \u001b[0;34m=\u001b[0m \u001b[0mtruncate\u001b[0m\u001b[0;34m)\u001b[0m\u001b[0;34m\u001b[0m\u001b[0m\n",
      "\u001b[0;32m~/Desktop/DeepLearning/CNN/MNIST_code/layers/cnn_layers.py\u001b[0m in \u001b[0;36mtwo_conv_pool_layer_backward\u001b[0;34m(dA4, caches)\u001b[0m\n\u001b[1;32m    212\u001b[0m         \u001b[0mdZ3\u001b[0m \u001b[0;34m=\u001b[0m \u001b[0mrelu_backward\u001b[0m\u001b[0;34m(\u001b[0m\u001b[0mdA3\u001b[0m\u001b[0;34m,\u001b[0m \u001b[0mrelu_cache3\u001b[0m\u001b[0;34m)\u001b[0m\u001b[0;34m\u001b[0m\u001b[0m\n\u001b[1;32m    213\u001b[0m         \u001b[0;31m# dZn3, dgamma3, dbeta3 = batchnorm_backward_conv(dZ3, bn_cache3)\u001b[0m\u001b[0;34m\u001b[0m\u001b[0;34m\u001b[0m\u001b[0m\n\u001b[0;32m--> 214\u001b[0;31m         \u001b[0mdA2\u001b[0m\u001b[0;34m,\u001b[0m \u001b[0mdW3\u001b[0m\u001b[0;34m,\u001b[0m \u001b[0mdb3\u001b[0m \u001b[0;34m=\u001b[0m \u001b[0mconv_backward\u001b[0m\u001b[0;34m(\u001b[0m\u001b[0mdZ3\u001b[0m\u001b[0;34m,\u001b[0m \u001b[0mconv_cache3\u001b[0m\u001b[0;34m)\u001b[0m\u001b[0;34m\u001b[0m\u001b[0m\n\u001b[0m\u001b[1;32m    215\u001b[0m \u001b[0;34m\u001b[0m\u001b[0m\n\u001b[1;32m    216\u001b[0m         \u001b[0mdA1\u001b[0m \u001b[0;34m=\u001b[0m \u001b[0mpool_backward\u001b[0m\u001b[0;34m(\u001b[0m\u001b[0mdA2\u001b[0m\u001b[0;34m,\u001b[0m \u001b[0mpool_cache2\u001b[0m\u001b[0;34m)\u001b[0m\u001b[0;34m\u001b[0m\u001b[0m\n",
      "\u001b[0;32m~/Desktop/DeepLearning/CNN/MNIST_code/layers/cnn_layers.py\u001b[0m in \u001b[0;36mconv_backward\u001b[0;34m(dZ, cache)\u001b[0m\n\u001b[1;32m     94\u001b[0m         \u001b[0mW_reshape\u001b[0m \u001b[0;34m=\u001b[0m \u001b[0mW\u001b[0m\u001b[0;34m.\u001b[0m\u001b[0mreshape\u001b[0m\u001b[0;34m(\u001b[0m\u001b[0mn_C\u001b[0m\u001b[0;34m,\u001b[0m \u001b[0;34m-\u001b[0m\u001b[0;36m1\u001b[0m\u001b[0;34m)\u001b[0m\u001b[0;34m\u001b[0m\u001b[0m\n\u001b[1;32m     95\u001b[0m         \u001b[0mdA_prev_col\u001b[0m \u001b[0;34m=\u001b[0m \u001b[0mW_reshape\u001b[0m\u001b[0;34m.\u001b[0m\u001b[0mT\u001b[0m \u001b[0;34m@\u001b[0m \u001b[0mdZ_reshaped\u001b[0m\u001b[0;34m\u001b[0m\u001b[0m\n\u001b[0;32m---> 96\u001b[0;31m         \u001b[0mdA_prev\u001b[0m \u001b[0;34m=\u001b[0m \u001b[0mcol2im_indices\u001b[0m\u001b[0;34m(\u001b[0m\u001b[0mdA_prev_col\u001b[0m\u001b[0;34m,\u001b[0m \u001b[0mA_prev\u001b[0m\u001b[0;34m.\u001b[0m\u001b[0mshape\u001b[0m\u001b[0;34m,\u001b[0m \u001b[0mf\u001b[0m\u001b[0;34m,\u001b[0m \u001b[0mf\u001b[0m\u001b[0;34m,\u001b[0m \u001b[0mpadding\u001b[0m\u001b[0;34m=\u001b[0m\u001b[0mpad\u001b[0m\u001b[0;34m,\u001b[0m \u001b[0mstride\u001b[0m\u001b[0;34m=\u001b[0m\u001b[0mstride\u001b[0m\u001b[0;34m)\u001b[0m\u001b[0;34m\u001b[0m\u001b[0m\n\u001b[0m\u001b[1;32m     97\u001b[0m         \u001b[0;32mreturn\u001b[0m \u001b[0mdA_prev\u001b[0m\u001b[0;34m,\u001b[0m \u001b[0mdW\u001b[0m\u001b[0;34m,\u001b[0m \u001b[0mdb\u001b[0m\u001b[0;34m\u001b[0m\u001b[0m\n\u001b[1;32m     98\u001b[0m \u001b[0;34m\u001b[0m\u001b[0m\n",
      "\u001b[0;32m~/Desktop/DeepLearning/CNN/MNIST_code/layers/im2col.py\u001b[0m in \u001b[0;36mcol2im_indices\u001b[0;34m(cols, x_shape, field_height, field_width, padding, stride)\u001b[0m\n\u001b[1;32m     47\u001b[0m   \u001b[0mcols_reshaped\u001b[0m \u001b[0;34m=\u001b[0m \u001b[0mcols\u001b[0m\u001b[0;34m.\u001b[0m\u001b[0mreshape\u001b[0m\u001b[0;34m(\u001b[0m\u001b[0mC\u001b[0m \u001b[0;34m*\u001b[0m \u001b[0mfield_height\u001b[0m \u001b[0;34m*\u001b[0m \u001b[0mfield_width\u001b[0m\u001b[0;34m,\u001b[0m \u001b[0;34m-\u001b[0m\u001b[0;36m1\u001b[0m\u001b[0;34m,\u001b[0m \u001b[0mN\u001b[0m\u001b[0;34m)\u001b[0m\u001b[0;34m\u001b[0m\u001b[0m\n\u001b[1;32m     48\u001b[0m   \u001b[0mcols_reshaped\u001b[0m \u001b[0;34m=\u001b[0m \u001b[0mcols_reshaped\u001b[0m\u001b[0;34m.\u001b[0m\u001b[0mtranspose\u001b[0m\u001b[0;34m(\u001b[0m\u001b[0;36m2\u001b[0m\u001b[0;34m,\u001b[0m \u001b[0;36m0\u001b[0m\u001b[0;34m,\u001b[0m \u001b[0;36m1\u001b[0m\u001b[0;34m)\u001b[0m\u001b[0;34m\u001b[0m\u001b[0m\n\u001b[0;32m---> 49\u001b[0;31m   \u001b[0mnp\u001b[0m\u001b[0;34m.\u001b[0m\u001b[0madd\u001b[0m\u001b[0;34m.\u001b[0m\u001b[0mat\u001b[0m\u001b[0;34m(\u001b[0m\u001b[0mx_padded\u001b[0m\u001b[0;34m,\u001b[0m \u001b[0;34m(\u001b[0m\u001b[0mslice\u001b[0m\u001b[0;34m(\u001b[0m\u001b[0;32mNone\u001b[0m\u001b[0;34m)\u001b[0m\u001b[0;34m,\u001b[0m \u001b[0mk\u001b[0m\u001b[0;34m,\u001b[0m \u001b[0mi\u001b[0m\u001b[0;34m,\u001b[0m \u001b[0mj\u001b[0m\u001b[0;34m)\u001b[0m\u001b[0;34m,\u001b[0m \u001b[0mcols_reshaped\u001b[0m\u001b[0;34m)\u001b[0m\u001b[0;34m\u001b[0m\u001b[0m\n\u001b[0m\u001b[1;32m     50\u001b[0m   \u001b[0;32mif\u001b[0m \u001b[0mpadding\u001b[0m \u001b[0;34m==\u001b[0m \u001b[0;36m0\u001b[0m\u001b[0;34m:\u001b[0m\u001b[0;34m\u001b[0m\u001b[0m\n\u001b[1;32m     51\u001b[0m     \u001b[0;32mreturn\u001b[0m \u001b[0mx_padded\u001b[0m\u001b[0;34m\u001b[0m\u001b[0m\n",
      "\u001b[0;31mKeyboardInterrupt\u001b[0m: "
     ]
    }
   ],
   "source": [
    "# training model\n",
    "filter_dims = [(32,1,5,5),(64,32,5,5)]\n",
    "layers_dims = [3136, 1024, classes] #  2-layer model\n",
    "parameters, parameters_conv, grads, conv_grads = cnn_model(input_layer[0:256], train_labels[0:256], filter_dims, layers_dims, \n",
    "                                                           truncate = 0, batch_size = 64, learning_rate = 0.01, num_iterations = 1, print_cost = True)\n"
   ]
  },
  {
   "cell_type": "code",
   "execution_count": 186,
   "metadata": {
    "colab": {
     "autoexec": {
      "startup": false,
      "wait_interval": 0
     },
     "base_uri": "https://localhost:8080/",
     "height": 988
    },
    "colab_type": "code",
    "executionInfo": {
     "elapsed": 162655,
     "status": "ok",
     "timestamp": 1524424291554,
     "user": {
      "displayName": "Sam Shen",
      "photoUrl": "https://lh3.googleusercontent.com/a/default-user=s128",
      "userId": "100562431021972138930"
     },
     "user_tz": 420
    },
    "id": "XMFB3PxjKQ4t",
    "outputId": "e2ebca9c-8be3-409c-8db5-139e8ebca265"
   },
   "outputs": [
    {
     "name": "stdout",
     "output_type": "stream",
     "text": [
      "Cost after iteration 0, batch 0: 1.964779\n",
      "Cost after iteration 0, batch 1: 2.046886\n",
      "Cost after iteration 0, batch 2: 1.733724\n",
      "Cost after iteration 0, batch 3: 1.728922\n",
      "Cost after iteration 0: 1.728922\n",
      "Cost after iteration 1, batch 0: 1.589570\n",
      "Cost after iteration 1, batch 1: 1.588515\n",
      "Cost after iteration 1, batch 2: 1.485667\n",
      "Cost after iteration 1, batch 3: 1.465731\n",
      "Cost after iteration 1: 1.465731\n",
      "Cost after iteration 2, batch 0: 1.342536\n",
      "Cost after iteration 2, batch 1: 1.334209\n",
      "Cost after iteration 2, batch 2: 1.253108\n",
      "Cost after iteration 2, batch 3: 1.231903\n",
      "Cost after iteration 2: 1.231903\n",
      "Cost after iteration 3, batch 0: 1.121202\n",
      "Cost after iteration 3, batch 1: 1.110597\n",
      "Cost after iteration 3, batch 2: 1.063925\n",
      "Cost after iteration 3, batch 3: 1.035551\n",
      "Cost after iteration 3: 1.035551\n",
      "Cost after iteration 4, batch 0: 0.946587\n",
      "Cost after iteration 4, batch 1: 0.929785\n",
      "Cost after iteration 4, batch 2: 0.912713\n",
      "Cost after iteration 4, batch 3: 0.890464\n",
      "Cost after iteration 4: 0.890464\n",
      "Cost after iteration 5, batch 0: 0.827259\n",
      "Cost after iteration 5, batch 1: 0.803682\n",
      "Cost after iteration 5, batch 2: 0.793625\n",
      "Cost after iteration 5, batch 3: 0.795625\n",
      "Cost after iteration 5: 0.795625\n",
      "Cost after iteration 6, batch 0: 0.751335\n",
      "Cost after iteration 6, batch 1: 0.728719\n",
      "Cost after iteration 6, batch 2: 0.707499\n",
      "Cost after iteration 6, batch 3: 0.709097\n",
      "Cost after iteration 6: 0.709097\n",
      "Cost after iteration 7, batch 0: 0.654900\n",
      "Cost after iteration 7, batch 1: 0.636603\n",
      "Cost after iteration 7, batch 2: 0.627165\n",
      "Cost after iteration 7, batch 3: 0.624032\n",
      "Cost after iteration 7: 0.624032\n",
      "Cost after iteration 8, batch 0: 0.559144\n",
      "Cost after iteration 8, batch 1: 0.553613\n",
      "Cost after iteration 8, batch 2: 0.557133\n",
      "Cost after iteration 8, batch 3: 0.542735\n",
      "Cost after iteration 8: 0.542735\n",
      "Cost after iteration 9, batch 0: 0.477045\n",
      "Cost after iteration 9, batch 1: 0.513963\n",
      "Cost after iteration 9, batch 2: 0.539932\n",
      "Cost after iteration 9, batch 3: 0.477684\n",
      "Cost after iteration 9: 0.477684\n",
      "Cost after iteration 10, batch 0: 0.432834\n",
      "Cost after iteration 10, batch 1: 0.549714\n",
      "Cost after iteration 10, batch 2: 0.659755\n",
      "Cost after iteration 10, batch 3: 0.495737\n",
      "Cost after iteration 10: 0.495737\n",
      "Cost after iteration 11, batch 0: 0.378251\n",
      "Cost after iteration 11, batch 1: 0.415853\n",
      "Cost after iteration 11, batch 2: 0.427514\n",
      "Cost after iteration 11, batch 3: 0.387629\n",
      "Cost after iteration 11: 0.387629\n",
      "Cost after iteration 12, batch 0: 0.353465\n",
      "Cost after iteration 12, batch 1: 0.449410\n",
      "Cost after iteration 12, batch 2: 0.474753\n",
      "Cost after iteration 12, batch 3: 0.389215\n",
      "Cost after iteration 12: 0.389215\n",
      "Cost after iteration 13, batch 0: 0.328033\n",
      "Cost after iteration 13, batch 1: 0.413632\n",
      "Cost after iteration 13, batch 2: 0.434848\n",
      "Cost after iteration 13, batch 3: 0.343849\n",
      "Cost after iteration 13: 0.343849\n",
      "Cost after iteration 14, batch 0: 0.282960\n",
      "Cost after iteration 14, batch 1: 0.353553\n",
      "Cost after iteration 14, batch 2: 0.358325\n",
      "Cost after iteration 14, batch 3: 0.296453\n",
      "Cost after iteration 14: 0.296453\n",
      "Cost after iteration 15, batch 0: 0.258118\n",
      "Cost after iteration 15, batch 1: 0.321739\n",
      "Cost after iteration 15, batch 2: 0.320141\n",
      "Cost after iteration 15, batch 3: 0.267086\n",
      "Cost after iteration 15: 0.267086\n",
      "Cost after iteration 16, batch 0: 0.232112\n",
      "Cost after iteration 16, batch 1: 0.289273\n",
      "Cost after iteration 16, batch 2: 0.290856\n",
      "Cost after iteration 16, batch 3: 0.240822\n",
      "Cost after iteration 16: 0.240822\n",
      "Cost after iteration 17, batch 0: 0.211193\n",
      "Cost after iteration 17, batch 1: 0.263444\n",
      "Cost after iteration 17, batch 2: 0.268902\n",
      "Cost after iteration 17, batch 3: 0.218726\n",
      "Cost after iteration 17: 0.218726\n",
      "Cost after iteration 18, batch 0: 0.193293\n",
      "Cost after iteration 18, batch 1: 0.242394\n",
      "Cost after iteration 18, batch 2: 0.250363\n",
      "Cost after iteration 18, batch 3: 0.199173\n",
      "Cost after iteration 18: 0.199173\n",
      "Cost after iteration 19, batch 0: 0.178189\n",
      "Cost after iteration 19, batch 1: 0.223037\n",
      "Cost after iteration 19, batch 2: 0.234524\n",
      "Cost after iteration 19, batch 3: 0.181537\n",
      "Cost after iteration 19: 0.181537\n"
     ]
    },
    {
     "data": {
      "image/png": "[encoded data removed]",
      "text/plain": [
       "<Figure size 360x288 with 1 Axes>"
      ]
     },
     "metadata": {},
     "output_type": "display_data"
    }
   ],
   "source": [
    "#further training on the same model \n",
    "parameters, parameters_conv, grads, conv_grads = cnn_model(input_layer[0:256], train_labels[:,0:256], layers_dims, filter_dims, \n",
    "                                                           truncate = 0, batch_size = 64, learning_rate = 0.01, num_iterations = 20, parameters = parameters, parameters_conv = parameters_conv, print_cost = True)\n"
   ]
  },
  {
   "cell_type": "code",
   "execution_count": 222,
   "metadata": {},
   "outputs": [
    {
     "data": {
      "text/plain": [
       "array([ 0.  ,  0.02, -0.02,  0.  ,  0.02, -0.  , -0.  ,  0.  , -0.02,\n",
       "        0.  , -0.02,  0.02,  0.02,  0.02,  0.  ,  0.02, -0.  ,  0.  ,\n",
       "        0.  ,  0.02, -0.  , -0.02, -0.  , -0.02, -0.  , -0.  ,  0.02,\n",
       "        0.02, -0.02,  0.02,  0.  , -0.04,  0.02, -0.02, -0.02,  0.  ,\n",
       "       -0.02,  0.  ,  0.02,  0.  , -0.  ,  0.  , -0.  , -0.02,  0.02,\n",
       "       -0.  ,  0.02, -0.02,  0.02,  0.  ,  0.  , -0.  ,  0.02,  0.  ,\n",
       "       -0.02, -0.  , -0.  , -0.02,  0.  , -0.  , -0.02,  0.  , -0.02,\n",
       "        0.  ,  0.  , -0.02, -0.  , -0.  ,  0.02,  0.  ,  0.  , -0.02,\n",
       "       -0.  , -0.  , -0.02, -0.  ,  0.  ,  0.02, -0.  , -0.  , -0.  ,\n",
       "       -0.02,  0.  , -0.  ,  0.02,  0.  ,  0.02,  0.  ,  0.02, -0.  ,\n",
       "        0.  ,  0.  ,  0.  ,  0.02, -0.02, -0.02, -0.02, -0.  , -0.  ,\n",
       "       -0.02,  0.  , -0.02, -0.02, -0.  ,  0.  , -0.  , -0.04,  0.  ,\n",
       "       -0.02,  0.02, -0.  , -0.  ,  0.  , -0.02,  0.  , -0.02,  0.  ,\n",
       "        0.  ,  0.02,  0.02, -0.  , -0.  , -0.  , -0.  ,  0.02, -0.04,\n",
       "       -0.  , -0.04, -0.02, -0.  ,  0.02, -0.02,  0.02, -0.  ,  0.  ,\n",
       "        0.02, -0.  ,  0.02,  0.  ,  0.  , -0.  , -0.04, -0.  , -0.04,\n",
       "       -0.  ,  0.02,  0.02,  0.  ,  0.  ,  0.02,  0.  ,  0.  , -0.  ,\n",
       "        0.02, -0.02,  0.  , -0.04, -0.02, -0.  ,  0.  ,  0.  , -0.  ,\n",
       "       -0.02,  0.  ,  0.  ,  0.  , -0.  ,  0.  ,  0.  , -0.  ,  0.02,\n",
       "        0.02,  0.  ,  0.02,  0.  ,  0.  ,  0.02,  0.  , -0.02, -0.  ,\n",
       "        0.02,  0.  , -0.  ,  0.02, -0.  ,  0.  ,  0.02,  0.02,  0.02,\n",
       "       -0.  , -0.02, -0.  , -0.  ,  0.  ,  0.  , -0.02, -0.02,  0.02,\n",
       "       -0.  ,  0.02, -0.02, -0.02, -0.  ,  0.02,  0.02, -0.02,  0.02,\n",
       "        0.  , -0.  ,  0.02,  0.  , -0.  ,  0.  , -0.02,  0.02,  0.  ,\n",
       "        0.  ,  0.  , -0.02, -0.  , -0.02, -0.02, -0.  , -0.  , -0.  ,\n",
       "       -0.  ,  0.02, -0.  ,  0.  ,  0.  ,  0.  , -0.02, -0.02,  0.02,\n",
       "       -0.02, -0.  ,  0.02, -0.02, -0.  ,  0.02, -0.02, -0.  , -0.02,\n",
       "       -0.02,  0.02, -0.  , -0.  , -0.  , -0.02, -0.02, -0.02, -0.  ,\n",
       "       -0.02, -0.  ,  0.02, -0.02,  0.02,  0.02, -0.02, -0.02,  0.  ,\n",
       "       -0.  , -0.  , -0.  ,  0.  ,  0.  ,  0.  , -0.02,  0.  ,  0.02,\n",
       "       -0.  , -0.  , -0.  , -0.  ,  0.  ,  0.  ,  0.  , -0.  ,  0.  ,\n",
       "       -0.  , -0.02,  0.  ,  0.  ,  0.02,  0.02, -0.  , -0.02,  0.02,\n",
       "       -0.  ,  0.  , -0.  ,  0.02, -0.  ,  0.02, -0.  , -0.02,  0.  ,\n",
       "        0.02, -0.  , -0.02, -0.  ,  0.  , -0.  ,  0.02,  0.  , -0.02,\n",
       "       -0.02,  0.02, -0.  , -0.02,  0.02, -0.  ,  0.02, -0.  ,  0.02,\n",
       "        0.02, -0.  , -0.  , -0.02, -0.02, -0.02,  0.  , -0.02,  0.  ,\n",
       "        0.  ,  0.02,  0.  , -0.02, -0.02,  0.02,  0.02, -0.  ,  0.  ,\n",
       "        0.  ,  0.  , -0.02, -0.  ,  0.  ,  0.02, -0.04,  0.02,  0.  ,\n",
       "       -0.02, -0.  ,  0.02, -0.  , -0.02, -0.02,  0.  , -0.  , -0.  ,\n",
       "        0.02, -0.  , -0.  , -0.  , -0.  , -0.02,  0.  ,  0.02,  0.  ,\n",
       "        0.02,  0.02, -0.02, -0.02, -0.  , -0.  ,  0.02,  0.  ,  0.  ,\n",
       "        0.02,  0.02, -0.02,  0.  , -0.  , -0.  ,  0.  , -0.02, -0.02,\n",
       "       -0.  ,  0.  , -0.  ,  0.  ,  0.02, -0.02, -0.  , -0.  , -0.  ,\n",
       "        0.02,  0.02, -0.  ,  0.  , -0.02,  0.  ,  0.  , -0.  , -0.  ,\n",
       "        0.02,  0.  ,  0.02,  0.  ,  0.  , -0.  , -0.02, -0.  ,  0.02,\n",
       "       -0.  ,  0.02, -0.02, -0.  , -0.  , -0.02,  0.02, -0.  , -0.02,\n",
       "       -0.  ,  0.  , -0.  , -0.02,  0.02,  0.  ,  0.  , -0.  ,  0.  ,\n",
       "       -0.  ,  0.02,  0.  , -0.02,  0.  , -0.  , -0.  ,  0.  ,  0.02,\n",
       "       -0.  ,  0.  ,  0.02, -0.02, -0.02,  0.02,  0.  , -0.  ,  0.  ,\n",
       "        0.02,  0.  ,  0.02, -0.02, -0.  , -0.  ,  0.02, -0.  , -0.  ,\n",
       "       -0.02, -0.02,  0.  ,  0.02, -0.02,  0.  , -0.  ,  0.02, -0.02,\n",
       "        0.  ,  0.  , -0.02,  0.  ,  0.  ,  0.  , -0.02, -0.04,  0.02,\n",
       "        0.02, -0.  ,  0.  , -0.02, -0.02,  0.02,  0.02,  0.  , -0.02,\n",
       "        0.  ,  0.02,  0.02, -0.02,  0.02, -0.02,  0.02, -0.04,  0.02,\n",
       "        0.02,  0.02, -0.  , -0.  ,  0.  , -0.  ,  0.  , -0.02,  0.  ,\n",
       "        0.  ,  0.  , -0.  , -0.04, -0.  ,  0.02,  0.  ,  0.02, -0.  ,\n",
       "        0.02, -0.  , -0.02, -0.02,  0.  , -0.  ,  0.02, -0.  ,  0.02,\n",
       "       -0.  , -0.02, -0.  , -0.  , -0.  ,  0.02,  0.  ,  0.  , -0.  ,\n",
       "       -0.  ,  0.  , -0.04,  0.  , -0.  , -0.  ,  0.  ,  0.  , -0.02,\n",
       "       -0.  , -0.  , -0.  , -0.02, -0.  , -0.  , -0.  ,  0.02, -0.02,\n",
       "        0.  , -0.  , -0.  ,  0.02,  0.02, -0.  , -0.02,  0.  , -0.02,\n",
       "       -0.  , -0.  , -0.02, -0.02, -0.02,  0.  ,  0.  , -0.  ,  0.  ,\n",
       "       -0.  , -0.  , -0.02,  0.02,  0.02,  0.02, -0.02,  0.  ,  0.02,\n",
       "       -0.  , -0.02, -0.  ,  0.  ,  0.  ,  0.  ,  0.  ,  0.02, -0.02,\n",
       "       -0.  ,  0.  , -0.  , -0.  ,  0.02, -0.02,  0.  , -0.02, -0.  ,\n",
       "       -0.  , -0.  , -0.  , -0.  , -0.02, -0.  , -0.02, -0.04,  0.  ,\n",
       "        0.  ,  0.  ,  0.02, -0.  ,  0.02, -0.02,  0.02,  0.  , -0.  ,\n",
       "       -0.  , -0.  , -0.02, -0.  ,  0.02,  0.  , -0.  ,  0.02,  0.  ,\n",
       "       -0.  ,  0.02, -0.  , -0.02, -0.  , -0.  ,  0.02, -0.02,  0.  ,\n",
       "        0.  ,  0.02,  0.  , -0.  ,  0.02, -0.02,  0.02, -0.  , -0.04,\n",
       "        0.  ,  0.  ,  0.  , -0.02, -0.  ,  0.02, -0.  , -0.02,  0.02,\n",
       "       -0.  , -0.  ,  0.02, -0.02, -0.  , -0.02, -0.  , -0.  ,  0.  ,\n",
       "        0.  , -0.02,  0.  ,  0.  ,  0.02, -0.  , -0.  , -0.02,  0.  ,\n",
       "       -0.  , -0.02,  0.  , -0.02, -0.02,  0.  , -0.  ,  0.  ,  0.02,\n",
       "       -0.  , -0.02, -0.02,  0.  ,  0.  , -0.  , -0.  ,  0.02,  0.  ,\n",
       "        0.  ,  0.02, -0.  , -0.  ,  0.02,  0.02, -0.  ,  0.  ,  0.  ,\n",
       "        0.02, -0.02,  0.02,  0.02,  0.  ,  0.02, -0.  , -0.  ,  0.  ,\n",
       "       -0.  ,  0.  ,  0.  ,  0.02, -0.  , -0.  , -0.  ,  0.02, -0.  ,\n",
       "        0.  ,  0.02, -0.  ,  0.02,  0.  , -0.02,  0.02, -0.02, -0.  ,\n",
       "       -0.  , -0.  , -0.  ,  0.  , -0.04,  0.  , -0.02, -0.02, -0.  ,\n",
       "       -0.  , -0.  ,  0.  , -0.02, -0.  , -0.  , -0.  , -0.02,  0.  ,\n",
       "       -0.  ,  0.02,  0.  , -0.  , -0.  , -0.02, -0.02, -0.02, -0.  ,\n",
       "       -0.02, -0.02, -0.02,  0.02, -0.  ,  0.  ,  0.02, -0.  , -0.02,\n",
       "        0.  , -0.  ,  0.  , -0.  ,  0.02, -0.  , -0.  ,  0.  , -0.02,\n",
       "        0.  , -0.04,  0.02, -0.02,  0.  , -0.  ,  0.02,  0.  , -0.02,\n",
       "       -0.  , -0.02,  0.02, -0.  ,  0.02,  0.  ,  0.  , -0.02, -0.02,\n",
       "        0.  , -0.  ,  0.  ,  0.02, -0.  , -0.02, -0.  , -0.02,  0.02,\n",
       "       -0.  ,  0.02,  0.02, -0.04, -0.  ,  0.02, -0.  ,  0.  ,  0.02,\n",
       "        0.02,  0.  , -0.  ,  0.  , -0.  ,  0.  , -0.  ,  0.  ,  0.02,\n",
       "        0.02,  0.  , -0.02,  0.02,  0.  , -0.02, -0.02, -0.  ,  0.02,\n",
       "       -0.02, -0.02,  0.02, -0.  , -0.  , -0.  , -0.  ,  0.  , -0.02,\n",
       "       -0.02,  0.  , -0.  ,  0.02, -0.  ,  0.02,  0.  ,  0.02, -0.  ,\n",
       "        0.02, -0.  , -0.02, -0.02, -0.02, -0.  ,  0.  , -0.02, -0.  ,\n",
       "        0.  , -0.02, -0.02,  0.02, -0.02,  0.  ,  0.02, -0.  ,  0.02,\n",
       "       -0.  ,  0.  , -0.02, -0.  ,  0.  , -0.02, -0.02,  0.  ,  0.  ,\n",
       "       -0.  ,  0.02, -0.  ,  0.  , -0.02, -0.02, -0.02,  0.02, -0.  ,\n",
       "        0.02, -0.  ,  0.02, -0.  ,  0.  , -0.  , -0.  , -0.  ,  0.  ,\n",
       "        0.  , -0.02, -0.  ,  0.  ,  0.02,  0.  , -0.04,  0.02,  0.  ,\n",
       "        0.02, -0.  , -0.  ,  0.  ,  0.02, -0.04,  0.  ,  0.  , -0.  ,\n",
       "       -0.  ,  0.02,  0.  ,  0.  , -0.02,  0.  ,  0.02,  0.02,  0.  ,\n",
       "       -0.02, -0.  , -0.02, -0.  ,  0.  , -0.04,  0.02,  0.  ,  0.02,\n",
       "        0.02,  0.02,  0.  ,  0.02, -0.  ,  0.  ,  0.  ,  0.  ,  0.02,\n",
       "       -0.02,  0.  , -0.02,  0.02,  0.02,  0.02,  0.  , -0.02, -0.02,\n",
       "       -0.  ,  0.  ,  0.02,  0.  , -0.  ,  0.02,  0.  , -0.  , -0.02,\n",
       "        0.  , -0.02,  0.02, -0.02,  0.  , -0.  ,  0.  , -0.  ,  0.02,\n",
       "       -0.02, -0.  , -0.  ,  0.  ,  0.  , -0.  , -0.  ,  0.  ,  0.02,\n",
       "       -0.  ,  0.02,  0.02, -0.02,  0.  , -0.  ,  0.  , -0.02,  0.  ,\n",
       "       -0.  , -0.02,  0.  , -0.02, -0.  , -0.  ,  0.02, -0.  , -0.  ,\n",
       "       -0.02, -0.02, -0.  ,  0.  ,  0.02,  0.  ,  0.  ,  0.02,  0.  ,\n",
       "        0.02, -0.  , -0.  ,  0.02,  0.  , -0.02, -0.  ,  0.02, -0.02,\n",
       "       -0.  ,  0.  , -0.02, -0.  , -0.  , -0.  ,  0.02,  0.02,  0.02,\n",
       "       -0.  ,  0.02, -0.02,  0.  ,  0.  ,  0.02, -0.  , -0.02, -0.  ,\n",
       "       -0.  , -0.  , -0.  , -0.02, -0.  ,  0.02, -0.04, -0.  ,  0.02,\n",
       "       -0.  , -0.02,  0.  , -0.  ,  0.  ,  0.  ,  0.02])"
      ]
     },
     "execution_count": 222,
     "metadata": {},
     "output_type": "execute_result"
    }
   ],
   "source": [
    "from layers.quantize import truncate_weights\n",
    "\n",
    "parameters['W1'] = truncate_weights(parameters['W1'], 2, weights_range = 0.08)\n",
    "parameters['b1'] = truncate_weights(parameters['b1'], 2, weights_range = 0.08)\n",
    "parameters['W2'] = truncate_weights(parameters['W2'], 2, weights_range = 0.08)\n",
    "parameters['b2'] = truncate_weights(parameters['b2'], 2, weights_range = 0.08)\n",
    "parameters_conv['W1'] = np.ceil(truncate_weights(parameters_conv['W1'], 2)).astype(int8)\n",
    "parameters_conv['b1'] = np.ceil(truncate_weights(parameters_conv['b1'], 2)).astype(int8)\n",
    "parameters_conv['W3'] = np.ceil(truncate_weights(parameters_conv['W3'], 2)).astype(int8)\n",
    "parameters_conv['b3'] = np.ceil(truncate_weights(parameters_conv['b3'], 2)).astype(int8)"
   ]
  },
  {
   "cell_type": "code",
   "execution_count": 204,
   "metadata": {
    "colab": {
     "autoexec": {
      "startup": false,
      "wait_interval": 0
     },
     "base_uri": "https://localhost:8080/",
     "height": 277
    },
    "colab_type": "code",
    "executionInfo": {
     "elapsed": 7999,
     "status": "ok",
     "timestamp": 1524424305787,
     "user": {
      "displayName": "Sam Shen",
      "photoUrl": "https://lh3.googleusercontent.com/a/default-user=s128",
      "userId": "100562431021972138930"
     },
     "user_tz": 420
    },
    "id": "ebpt464ANpnK",
    "outputId": "bd7bfa51-50bf-4ec5-c689-cf40424bcb8b"
   },
   "outputs": [
    {
     "name": "stdout",
     "output_type": "stream",
     "text": [
      "Accuracy: 0.8037109375\n"
     ]
    },
    {
     "data": {
      "text/plain": [
       "array([[0., 0., 0., ..., 0., 0., 1.],\n",
       "       [0., 0., 0., ..., 1., 0., 0.],\n",
       "       [0., 0., 0., ..., 0., 0., 0.],\n",
       "       ...,\n",
       "       [1., 0., 0., ..., 0., 0., 0.],\n",
       "       [0., 0., 0., ..., 0., 0., 0.],\n",
       "       [0., 0., 1., ..., 0., 0., 0.]])"
      ]
     },
     "execution_count": 204,
     "metadata": {},
     "output_type": "execute_result"
    }
   ],
   "source": [
    "eval_cnn_model(input_layer[0:1024], train_labels[:,0:1024], parameters, parameters_conv)\n",
    "\n",
    "#eval_cnn_model(eval_data[0:256], eval_labels[:,0:256], parameters, parameters_conv)"
   ]
  },
  {
   "cell_type": "code",
   "execution_count": 221,
   "metadata": {},
   "outputs": [],
   "source": [
    "np.set_printoptions(threshold=sys.maxsize)"
   ]
  },
  {
   "cell_type": "code",
   "execution_count": null,
   "metadata": {
    "colab": {
     "autoexec": {
      "startup": false,
      "wait_interval": 0
     },
     "base_uri": "https://localhost:8080/",
     "height": 317
    },
    "colab_type": "code",
    "executionInfo": {
     "elapsed": 548,
     "status": "ok",
     "timestamp": 1524205134652,
     "user": {
      "displayName": "Sam Shen",
      "photoUrl": "https://lh3.googleusercontent.com/a/default-user=s128",
      "userId": "100562431021972138930"
     },
     "user_tz": 420
    },
    "id": "zGyOlEriv4lf",
    "outputId": "0af28b55-b550-4f3e-e2e2-f145ba7d74a3"
   },
   "outputs": [],
   "source": [
    "image_num = 88\n",
    "predict_cnn(eval_data[image_num:image_num+1],parameters, parameters_conv)\n",
    "print(\"actual value: \" + str(eval_labels_old[image_num]))\n",
    "data = mnist.test.images[image_num].reshape(28,28)\n",
    "plt.imshow(data)"
   ]
  },
  {
   "cell_type": "code",
   "execution_count": null,
   "metadata": {
    "colab": {
     "autoexec": {
      "startup": false,
      "wait_interval": 0
     }
    },
    "colab_type": "code",
    "id": "Ew1O8bo7v4lg"
   },
   "outputs": [],
   "source": [
    "out = np.concatenate((parameters_conv['W1'].reshape(-1),parameters_conv['b1'].reshape(-1), \n",
    "                     parameters_conv['W3'].reshape(-1), parameters_conv['b3'].reshape(-1)))\n",
    "mu = np.mean(out)\n",
    "variance = np.var(out)\n",
    "sigma = math.sqrt(variance)\n",
    "x = np.linspace(mu - 4 * sigma , mu + 4 * sigma , 1000)\n",
    "plt.plot(x,mlab.normpdf(x, mu, sigma))\n",
    "plt.show()\n",
    "print(\"one std is\",sigma)"
   ]
  },
  {
   "cell_type": "code",
   "execution_count": null,
   "metadata": {},
   "outputs": [],
   "source": [
    "out_m = np.concatenate((parameters_conv['W1'].reshape(-1),parameters_conv['b1'].reshape(-1), \n",
    "                     parameters_conv['W3'].reshape(-1), parameters_conv['b3'].reshape(-1)))\n",
    "mu_m = np.mean(out_m)\n",
    "variance_m = np.var(out_m)\n",
    "sigma_m = math.sqrt(variance_m)\n",
    "x_m = np.linspace(mu_m - 4 * sigma_m , mu_m + 4 * sigma_m , 1000)\n",
    "plt.plot(y,mlab.normpdf(x_m, mu_m, sigma_m),'-', x, mlab.normpdf(x, mu, sigma), '--')\n",
    "plt.show()\n",
    "print(\"one std is\",sigma_m)"
   ]
  },
  {
   "cell_type": "code",
   "execution_count": null,
   "metadata": {},
   "outputs": [],
   "source": []
  },
  {
   "cell_type": "code",
   "execution_count": null,
   "metadata": {},
   "outputs": [],
   "source": [
    "out = np.concatenate((conv_grads['dW1'].reshape(-1),conv_grads['db1'].reshape(-1), \n",
    "                     conv_grads['dW3'].reshape(-1), conv_grads['db3'].reshape(-1)))\n",
    "mu = np.mean(out)\n",
    "variance = np.var(out)\n",
    "sigma = math.sqrt(variance)\n",
    "x = np.linspace(mu - 4 * sigma , mu + 4 * sigma , 1000)\n",
    "plt.plot(x,mlab.normpdf(x, mu, sigma))\n",
    "plt.show()\n",
    "print(\"one std is\",sigma)"
   ]
  },
  {
   "cell_type": "code",
   "execution_count": null,
   "metadata": {},
   "outputs": [],
   "source": [
    "out_m = np.concatenate((conv_grads['dW1'].reshape(-1),conv_grads['db1'].reshape(-1), \n",
    "                     conv_grads['dW3'].reshape(-1), conv_grads['db3'].reshape(-1)))\n",
    "mu_m = np.mean(out_m)\n",
    "variance_m = np.var(out_m)\n",
    "sigma_m = math.sqrt(variance_m)\n",
    "x_m = np.linspace(mu_m - 4 * sigma_m , mu_m + 4 * sigma_m , 1000)\n",
    "plt.plot(x_m,mlab.normpdf(x_m, mu_m, sigma_m),'-', x, mlab.normpdf(x, mu, sigma), '--')\n",
    "plt.show()\n",
    "print(\"one std is\",sigma_m)"
   ]
  },
  {
   "cell_type": "code",
   "execution_count": null,
   "metadata": {},
   "outputs": [],
   "source": [
    "out_f = np.concatenate((conv_grads['dW1'].reshape(-1),conv_grads['db1'].reshape(-1), \n",
    "                     conv_grads['dW3'].reshape(-1), conv_grads['db3'].reshape(-1)))\n",
    "mu_f = np.mean(out_f)\n",
    "variance_f = np.var(out_f)\n",
    "sigma_f = math.sqrt(variance_f)\n",
    "x_f = np.linspace(mu_f - 4 * sigma_f , mu_f + 4 * sigma_f , 1000)\n",
    "plt.plot(x_f,mlab.normpdf(x_f, mu_f, sigma_f),'-',x_m,mlab.normpdf(x_m, mu_m, sigma_m),'-.', x, mlab.normpdf(x, mu, sigma), '--')\n",
    "plt.show()\n",
    "print(\"one std is\",sigma_f)"
   ]
  },
  {
   "cell_type": "code",
   "execution_count": null,
   "metadata": {},
   "outputs": [],
   "source": [
    "t = np.arange(0., 5., 0.2)\n",
    "\n",
    "# red dashes, blue squares and green triangles\n",
    "plt.plot(t, t, 'r--', t, t**2, 'bs', t, t**3, 'g^', t, t**4, 'r-')\n",
    "plt.show()"
   ]
  },
  {
   "cell_type": "code",
   "execution_count": null,
   "metadata": {},
   "outputs": [],
   "source": [
    "out = np.concatenate((parameters_conv['W1'].reshape(-1),parameters_conv['W3'].reshape(-1),\n",
    "                      parameters_conv['b1'].reshape(-1),parameters_conv['b3'].reshape(-1),\n",
    "                      conv_grads['dW1'].reshape(-1), conv_grads['dW3'].reshape(-1),\n",
    "                      conv_grads['db1'].reshape(-1),conv_grads['db3'].reshape(-1)))\n",
    "out = out.reshape(-1,8)\n",
    "np.savetxt(\"parameters.csv\", out, delimiter=\",\")"
   ]
  },
  {
   "cell_type": "code",
   "execution_count": 179,
   "metadata": {},
   "outputs": [
    {
     "name": "stderr",
     "output_type": "stream",
     "text": [
      "/Users/samshen/anaconda/envs/py36/lib/python3.6/site-packages/ipykernel_launcher.py:7: MatplotlibDeprecationWarning: scipy.stats.norm.pdf\n",
      "  import sys\n"
     ]
    },
    {
     "data": {
      "image/png": "[encoded data removed]",
      "text/plain": [
       "<Figure size 360x288 with 1 Axes>"
      ]
     },
     "metadata": {},
     "output_type": "display_data"
    },
    {
     "name": "stdout",
     "output_type": "stream",
     "text": [
      "one std is 0.004766489111266608\n"
     ]
    }
   ],
   "source": [
    "out = np.concatenate((grads['dW1'].reshape(-1), grads['db1'].reshape(-1), \n",
    "                     grads['dW2'].reshape(-1), grads['db2'].reshape(-1)))\n",
    "mu = np.mean(out)\n",
    "variance = np.var(out)\n",
    "sigma = math.sqrt(variance)\n",
    "x = np.linspace(mu - 4 * sigma , mu + 4 * sigma , 1000)\n",
    "plt.plot(x,mlab.normpdf(x, mu, sigma))\n",
    "plt.show()\n",
    "print(\"one std is\",sigma)"
   ]
  },
  {
   "cell_type": "code",
   "execution_count": 181,
   "metadata": {},
   "outputs": [
    {
     "name": "stderr",
     "output_type": "stream",
     "text": [
      "/Users/samshen/anaconda/envs/py36/lib/python3.6/site-packages/ipykernel_launcher.py:7: MatplotlibDeprecationWarning: scipy.stats.norm.pdf\n",
      "  import sys\n"
     ]
    },
    {
     "data": {
      "image/png": "[encoded data removed]",
      "text/plain": [
       "<Figure size 360x288 with 1 Axes>"
      ]
     },
     "metadata": {},
     "output_type": "display_data"
    },
    {
     "name": "stdout",
     "output_type": "stream",
     "text": [
      "one std is 0.07304826983755976\n"
     ]
    }
   ],
   "source": [
    "out = np.concatenate((conv_grads['dW1'].reshape(-1), conv_grads['db1'].reshape(-1), \n",
    "                     conv_grads['dW3'].reshape(-1), conv_grads['db3'].reshape(-1)))\n",
    "mu = np.mean(out)\n",
    "variance = np.var(out)\n",
    "sigma = math.sqrt(variance)\n",
    "x = np.linspace(mu - 4 * sigma , mu + 4 * sigma , 1000)\n",
    "plt.plot(x,mlab.normpdf(x, mu, sigma))\n",
    "plt.show()\n",
    "print(\"one std is\",sigma)"
   ]
  },
  {
   "cell_type": "code",
   "execution_count": 218,
   "metadata": {},
   "outputs": [
    {
     "data": {
      "text/plain": [
       "array([1], dtype=int8)"
      ]
     },
     "execution_count": 218,
     "metadata": {},
     "output_type": "execute_result"
    }
   ],
   "source": [
    "np.ceil(np.array([0.5])).astype(np.int8)"
   ]
  },
  {
   "cell_type": "code",
   "execution_count": null,
   "metadata": {},
   "outputs": [],
   "source": []
  }
 ],
 "metadata": {
  "accelerator": "GPU",
  "colab": {
   "collapsed_sections": [],
   "default_view": {},
   "name": "cnn_mnist.ipynb",
   "provenance": [],
   "version": "0.3.2",
   "views": {}
  },
  "kernelspec": {
   "display_name": "Python 3",
   "language": "python",
   "name": "python3"
  },
  "language_info": {
   "codemirror_mode": {
    "name": "ipython",
    "version": 3
   },
   "file_extension": ".py",
   "mimetype": "text/x-python",
   "name": "python",
   "nbconvert_exporter": "python",
   "pygments_lexer": "ipython3",
   "version": "3.6.5"
  }
 },
 "nbformat": 4,
 "nbformat_minor": 1
}
